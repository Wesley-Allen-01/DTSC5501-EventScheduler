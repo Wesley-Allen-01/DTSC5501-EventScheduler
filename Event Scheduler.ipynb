{
  "nbformat": 4,
  "nbformat_minor": 0,
  "metadata": {
    "colab": {
      "provenance": []
    },
    "kernelspec": {
      "name": "python3",
      "display_name": "Python 3"
    },
    "language_info": {
      "name": "python"
    }
  },
  "cells": [
    {
      "cell_type": "code",
      "execution_count": null,
      "metadata": {
        "id": "t1q-pduEIDf3"
      },
      "outputs": [],
      "source": [
        "#Events class\n",
        "class Event:\n",
        "  def __init__(self, event_id, title, date, time, location):\n",
        "    self.id = event_id\n",
        "    self.title = title\n",
        "    self.date = date\n",
        "    self.time = time\n",
        "    self.location = location\n",
        "\n",
        "  def __str__(self):\n",
        "    return f\"{self.id}: {self.title} on {self.date} at {self.time} ({self.location})\""
      ]
    },
    {
      "cell_type": "code",
      "source": [
        "#ArrayBasedList\n",
        "class ArrayBasedList:\n",
        "  def __init__(self):\n",
        "    self.events = []\n",
        "\n",
        "  def insert(self, event):\n",
        "    self.events.append(event)\n",
        "\n",
        "  def delete(self, event_id):\n",
        "    for i, event in enumerate(self.events):\n",
        "      if event.id == event_id:\n",
        "        del self.events[i]\n",
        "        return True\n",
        "    return False\n",
        "\n",
        "  def search_by_id(self, event_id):\n",
        "    for event in self.events:\n",
        "      if event.id == event_id:\n",
        "        return event\n",
        "    return None\n",
        "\n",
        "  def list_all(self):\n",
        "    return self.events"
      ],
      "metadata": {
        "id": "dtwqol77IFHO"
      },
      "execution_count": null,
      "outputs": []
    }
  ]
}