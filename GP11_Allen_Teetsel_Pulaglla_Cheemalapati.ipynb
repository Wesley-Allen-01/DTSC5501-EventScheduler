{
 "cells": [
  {
   "cell_type": "markdown",
   "id": "22991e1b",
   "metadata": {
    "id": "22991e1b"
   },
   "source": [
    "# DTSC 5501 - Group Project #1"
   ]
  },
  {
   "cell_type": "markdown",
   "id": "9b78fa01",
   "metadata": {
    "id": "9b78fa01"
   },
   "source": [
    "## Part A"
   ]
  },
  {
   "cell_type": "code",
   "execution_count": 1,
   "id": "bb6247a8",
   "metadata": {
    "colab": {
     "base_uri": "https://localhost:8080/"
    },
    "id": "bb6247a8",
    "outputId": "a56260a0-022c-4bc2-c8ad-c9af3c2e3aa5"
   },
   "outputs": [
    {
     "name": "stdout",
     "output_type": "stream",
     "text": [
      "hello\n"
     ]
    }
   ],
   "source": [
    "print(\"hello\")"
   ]
  },
  {
   "cell_type": "markdown",
   "id": "9a404238",
   "metadata": {
    "id": "9a404238"
   },
   "source": [
    "## Part B"
   ]
  },
  {
   "cell_type": "code",
   "execution_count": null,
   "id": "9fd84ee2",
   "metadata": {
    "id": "9fd84ee2"
   },
   "outputs": [],
   "source": []
  },
  {
   "cell_type": "markdown",
   "id": "b10709f3",
   "metadata": {
    "id": "b10709f3"
   },
   "source": [
    "## Part C"
   ]
  },
  {
   "cell_type": "code",
   "execution_count": 1,
   "id": "3c962d2f",
   "metadata": {
    "id": "3c962d2f"
   },
   "outputs": [
    {
     "name": "stdout",
     "output_type": "stream",
     "text": [
      "This should be in Amber's branch, trying to push to main\n"
     ]
    }
   ],
   "source": [
    "print(\"This should be in Amber's branch, trying to push to main\")"
   ]
  },
  {
   "cell_type": "markdown",
   "id": "fda01c02",
   "metadata": {
    "id": "fda01c02"
   },
   "source": [
    "## Part D"
   ]
  },
  {
   "cell_type": "code",
   "execution_count": null,
   "id": "6ffadd01",
   "metadata": {
    "id": "6ffadd01"
   },
   "outputs": [],
   "source": []
  },
  {
   "cell_type": "markdown",
   "id": "dc596239",
   "metadata": {
    "id": "dc596239"
   },
   "source": [
    "## Part E"
   ]
  },
  {
   "cell_type": "markdown",
   "id": "1b2853d8",
   "metadata": {
    "id": "1b2853d8"
   },
   "source": []
  }
 ],
 "metadata": {
  "colab": {
   "provenance": []
  },
  "kernelspec": {
   "display_name": "Python 3 (ipykernel)",
   "language": "python",
   "name": "python3"
  },
  "language_info": {
   "codemirror_mode": {
    "name": "ipython",
    "version": 3
   },
   "file_extension": ".py",
   "mimetype": "text/x-python",
   "name": "python",
   "nbconvert_exporter": "python",
   "pygments_lexer": "ipython3",
   "version": "3.13.7"
  }
 },
 "nbformat": 4,
 "nbformat_minor": 5
}
