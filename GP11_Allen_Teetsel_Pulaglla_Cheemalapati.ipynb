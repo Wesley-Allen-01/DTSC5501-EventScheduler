{
 "cells": [
  {
   "cell_type": "markdown",
   "id": "22991e1b",
   "metadata": {
    "id": "22991e1b"
   },
   "source": [
    "# DTSC 5501 - Group Project #1"
   ]
  },
  {
   "cell_type": "markdown",
   "id": "6366a053",
   "metadata": {},
   "source": [
    "# Imports"
   ]
  },
  {
   "cell_type": "code",
<<<<<<< HEAD
   "execution_count": 1,
   "id": "c46e75da-bd34-4606-95c0-0b66c37cbc48",
   "metadata": {},
   "outputs": [
    {
     "name": "stdout",
     "output_type": "stream",
     "text": [
      "Requirement already satisfied: matplotlib in /Library/Frameworks/Python.framework/Versions/3.13/lib/python3.13/site-packages (3.10.7)\n",
      "Requirement already satisfied: contourpy>=1.0.1 in /Library/Frameworks/Python.framework/Versions/3.13/lib/python3.13/site-packages (from matplotlib) (1.3.3)\n",
      "Requirement already satisfied: cycler>=0.10 in /Library/Frameworks/Python.framework/Versions/3.13/lib/python3.13/site-packages (from matplotlib) (0.12.1)\n",
      "Requirement already satisfied: fonttools>=4.22.0 in /Library/Frameworks/Python.framework/Versions/3.13/lib/python3.13/site-packages (from matplotlib) (4.60.1)\n",
      "Requirement already satisfied: kiwisolver>=1.3.1 in /Library/Frameworks/Python.framework/Versions/3.13/lib/python3.13/site-packages (from matplotlib) (1.4.9)\n",
      "Requirement already satisfied: numpy>=1.23 in /Library/Frameworks/Python.framework/Versions/3.13/lib/python3.13/site-packages (from matplotlib) (2.3.4)\n",
      "Requirement already satisfied: packaging>=20.0 in /Library/Frameworks/Python.framework/Versions/3.13/lib/python3.13/site-packages (from matplotlib) (25.0)\n",
      "Requirement already satisfied: pillow>=8 in /Library/Frameworks/Python.framework/Versions/3.13/lib/python3.13/site-packages (from matplotlib) (11.3.0)\n",
      "Requirement already satisfied: pyparsing>=3 in /Library/Frameworks/Python.framework/Versions/3.13/lib/python3.13/site-packages (from matplotlib) (3.2.5)\n",
      "Requirement already satisfied: python-dateutil>=2.7 in /Library/Frameworks/Python.framework/Versions/3.13/lib/python3.13/site-packages (from matplotlib) (2.9.0.post0)\n",
      "Requirement already satisfied: six>=1.5 in /Library/Frameworks/Python.framework/Versions/3.13/lib/python3.13/site-packages (from python-dateutil>=2.7->matplotlib) (1.17.0)\n",
      "Note: you may need to restart the kernel to use updated packages.\n"
     ]
    }
   ],
   "source": [
    "pip install matplotlib"
   ]
  },
  {
   "cell_type": "code",
   "execution_count": 2,
=======
   "execution_count": 15,
>>>>>>> df00300c611a143e8dc0be9e5a16eff05fd1f6e0
   "id": "bb6247a8",
   "metadata": {
    "colab": {
     "base_uri": "https://localhost:8080/"
    },
    "id": "bb6247a8",
    "outputId": "a56260a0-022c-4bc2-c8ad-c9af3c2e3aa5"
   },
   "outputs": [],
   "source": [
    "import sys\n",
    "sys.path.append(\"src/\")\n",
    "from LinkedList import LinkedList\n",
    "from Event import Event\n",
    "from ArrayList import ArrayList\n",
<<<<<<< HEAD
    "import matplotlib.pyplot as plt\n",
    "from GenerateData import create_event_dataset\n",
    "import random"
=======
    "import matplotlib.pyplot as plt"
>>>>>>> df00300c611a143e8dc0be9e5a16eff05fd1f6e0
   ]
  },
  {
   "cell_type": "markdown",
   "id": "9b78fa01",
   "metadata": {
    "id": "9b78fa01"
   },
   "source": [
    "## Part A"
   ]
  },
  {
   "cell_type": "markdown",
   "id": "6878b22b",
   "metadata": {},
   "source": [
    "To begin, we will initialize a test event, the Array-Based List, and the Linked List."
   ]
  },
  {
   "cell_type": "code",
<<<<<<< HEAD
   "execution_count": 3,
=======
   "execution_count": 16,
>>>>>>> df00300c611a143e8dc0be9e5a16eff05fd1f6e0
   "id": "a4cc580e",
   "metadata": {},
   "outputs": [],
   "source": [
    "test_event = Event(1, \"Meeting\", \"2023-10-01\", \"10:00\", \"11:00\", \"Conference Room\")\n",
    "next_event = Event(2, \"Class\", \"2025-10-01\", \"11:15\", \"12:00\", \"KOBL 231\")\n",
    "early_event = Event(4, \"Conversation\", \"2024-10-01\", \"11:05\", \"11:14\", \"Virtual\")\n",
    "\n",
    "\n",
    "events = [test_event, next_event, early_event]\n",
    "\n",
    "ll = LinkedList()\n",
<<<<<<< HEAD
    "arr = ArrayList()"
=======
    "arr = ArrayList()\n"
>>>>>>> df00300c611a143e8dc0be9e5a16eff05fd1f6e0
   ]
  },
  {
   "cell_type": "markdown",
   "id": "5e13741a",
   "metadata": {},
   "source": [
    "We can insert events into both lists by calling their respective `.insert()` methods. Further, we can call the `.list_all()` method to print the contents of both lists."
   ]
  },
  {
   "cell_type": "code",
<<<<<<< HEAD
   "execution_count": 4,
=======
   "execution_count": 17,
>>>>>>> df00300c611a143e8dc0be9e5a16eff05fd1f6e0
   "id": "cee9447b",
   "metadata": {},
   "outputs": [
    {
     "name": "stdout",
     "output_type": "stream",
     "text": [
      "Linked List Contents\n",
      "\n",
      "\n",
      "        Events shown below:\n",
      "        \n",
      "        -----------------------------------\n",
      "        \n",
      "        1: Meeting on 2023-10-01 from 10:00 to 11:00 at Conference Room\n",
      "\n",
      "\t-----------------------------------\n",
      "\n",
      "\t2: Class on 2025-10-01 from 11:15 to 12:00 at KOBL 231\n",
      "\n",
      "\t-----------------------------------\n",
      "\n",
      "\t4: Conversation on 2024-10-01 from 11:05 to 11:14 at Virtual\n",
      "\n",
      "\t-----------------------------------\n",
      "\n",
      "\t\n",
      "\n",
      "\n",
      "\n",
      "Array-based List Contents\n",
      "\n",
      "\n",
      "        Events shown below:\n",
      "        \n",
      "        -----------------------------------\n",
      "        \n",
      "        1: Meeting on 2023-10-01 from 10:00 to 11:00 at Conference Room\n",
      "\n",
      "\t-----------------------------------\n",
      "\n",
      "\t2: Class on 2025-10-01 from 11:15 to 12:00 at KOBL 231\n",
      "\n",
      "\t-----------------------------------\n",
      "\n",
      "\t4: Conversation on 2024-10-01 from 11:05 to 11:14 at Virtual\n",
      "\n",
      "\t-----------------------------------\n",
      "\n",
      "\t\n"
     ]
    }
   ],
   "source": [
    "for event in events:\n",
    "    ll.insert(event)\n",
    "    arr.insert(event)\n",
    "\n",
    "print(\"Linked List Contents\\n\")\n",
    "ll.list_all()\n",
    "\n",
    "print(\"\\n\\n\\nArray-based List Contents\\n\")\n",
    "arr.list_all()"
   ]
  },
  {
   "cell_type": "markdown",
   "id": "cd6eaee4",
   "metadata": {},
   "source": [
    "We can delete items from both lists by calling their respetive `.delete()` methods. The function requires a idx argument, which dictates which event is to be removed. Calling `.delete(0)` removes the item at index 0 from each list. To demonstrate, let's delete event at index 1 from the array and event at index 0 from the linked list. "
   ]
  },
  {
   "cell_type": "code",
<<<<<<< HEAD
   "execution_count": 5,
=======
   "execution_count": 18,
>>>>>>> df00300c611a143e8dc0be9e5a16eff05fd1f6e0
   "id": "71b8a88c",
   "metadata": {},
   "outputs": [
    {
     "name": "stdout",
     "output_type": "stream",
     "text": [
      "Linked List Contents After Deletion of Event 0\n",
      "\n",
      "\n",
      "        Events shown below:\n",
      "        \n",
      "        -----------------------------------\n",
      "        \n",
      "        2: Class on 2025-10-01 from 11:15 to 12:00 at KOBL 231\n",
      "\n",
      "\t-----------------------------------\n",
      "\n",
      "\t4: Conversation on 2024-10-01 from 11:05 to 11:14 at Virtual\n",
      "\n",
      "\t-----------------------------------\n",
      "\n",
      "\t\n",
      "\n",
      "\n",
      "\n",
      "Array-based List Contents After Deletion of Event 1\n",
      "\n",
      "\n",
      "        Events shown below:\n",
      "        \n",
      "        -----------------------------------\n",
      "        \n",
      "        1: Meeting on 2023-10-01 from 10:00 to 11:00 at Conference Room\n",
      "\n",
      "\t-----------------------------------\n",
      "\n",
      "\t4: Conversation on 2024-10-01 from 11:05 to 11:14 at Virtual\n",
      "\n",
      "\t-----------------------------------\n",
      "\n",
      "\t\n"
     ]
    }
   ],
   "source": [
    "ll.delete(0)\n",
    "arr.delete(1)\n",
    "\n",
    "print(\"Linked List Contents After Deletion of Event 0\\n\")\n",
    "ll.list_all()\n",
    "\n",
    "print(\"\\n\\n\\nArray-based List Contents After Deletion of Event 1\\n\")\n",
    "arr.list_all()"
   ]
  },
  {
   "cell_type": "markdown",
   "id": "eea363db",
   "metadata": {},
   "source": [
    "Let's add back both events. We can search through each list by calling the `.search_by_id()` method. This function requires both an id and a method argument. Id corresponds to the specific item that we want to find. Method corresponds to the search algorithm we want to use. This can be either 'linear' or 'binary'. \n",
    "\n",
    "Note: Prior to executing binary search, both lists are sorted. "
   ]
  },
  {
   "cell_type": "code",
<<<<<<< HEAD
   "execution_count": 6,
=======
   "execution_count": 19,
>>>>>>> df00300c611a143e8dc0be9e5a16eff05fd1f6e0
   "id": "e8da54ce",
   "metadata": {},
   "outputs": [
    {
     "name": "stdout",
     "output_type": "stream",
     "text": [
      "Linked List Contents After Re-inserting Event 0\n",
      "\n",
      "\n",
      "        Events shown below:\n",
      "        \n",
      "        -----------------------------------\n",
      "        \n",
      "        1: Meeting on 2023-10-01 from 10:00 to 11:00 at Conference Room\n",
      "\n",
      "\t-----------------------------------\n",
      "\n",
      "\t2: Class on 2025-10-01 from 11:15 to 12:00 at KOBL 231\n",
      "\n",
      "\t-----------------------------------\n",
      "\n",
      "\t4: Conversation on 2024-10-01 from 11:05 to 11:14 at Virtual\n",
      "\n",
      "\t-----------------------------------\n",
      "\n",
      "\t\n",
      "\n",
      "\n",
      "\n",
      "Array-based List Contents After Re-inserting Event 1\n",
      "\n",
      "\n",
      "        Events shown below:\n",
      "        \n",
      "        -----------------------------------\n",
      "        \n",
      "        1: Meeting on 2023-10-01 from 10:00 to 11:00 at Conference Room\n",
      "\n",
      "\t-----------------------------------\n",
      "\n",
      "\t2: Class on 2025-10-01 from 11:15 to 12:00 at KOBL 231\n",
      "\n",
      "\t-----------------------------------\n",
      "\n",
      "\t4: Conversation on 2024-10-01 from 11:05 to 11:14 at Virtual\n",
      "\n",
      "\t-----------------------------------\n",
      "\n",
      "\t\n"
     ]
    }
   ],
   "source": [
    "ll.insert(test_event, 0)\n",
    "arr.insert(next_event, 1)\n",
    "print(\"Linked List Contents After Re-inserting Event 0\\n\")\n",
    "ll.list_all()\n",
    "print(\"\\n\\n\\nArray-based List Contents After Re-inserting Event 1\\n\")\n",
    "arr.list_all()"
   ]
  },
  {
   "cell_type": "code",
<<<<<<< HEAD
   "execution_count": 7,
=======
   "execution_count": 20,
>>>>>>> df00300c611a143e8dc0be9e5a16eff05fd1f6e0
   "id": "8eef6926",
   "metadata": {},
   "outputs": [
    {
     "name": "stdout",
     "output_type": "stream",
     "text": [
      "Event 2 found in 2 attempts (0.0000 seconds)\n",
      "\n",
      "\n",
      "Linked List Linear Search Result for Event 2: 2: Class on 2025-10-01 from 11:15 to 12:00 at KOBL 231\n",
      "\n"
     ]
    }
   ],
   "source": [
    "lin_item = ll.search_by_id(2, 'linear')\n",
    "print(f\"\\n\\nLinked List Linear Search Result for Event 2: {lin_item}\\n\")"
   ]
  },
  {
   "cell_type": "code",
<<<<<<< HEAD
   "execution_count": 8,
=======
   "execution_count": 22,
>>>>>>> df00300c611a143e8dc0be9e5a16eff05fd1f6e0
   "id": "8dc81ef4",
   "metadata": {},
   "outputs": [
    {
     "name": "stdout",
     "output_type": "stream",
     "text": [
<<<<<<< HEAD
      "Event 2 found in 1 attempts (1.9073486328125e-06 seconds) \n",
=======
      "Event 2 found in 1 attempts (3.0994415283203125e-06 seconds) \n",
>>>>>>> df00300c611a143e8dc0be9e5a16eff05fd1f6e0
      "\n",
      "\n",
      "Array-based List Binary Search Result for Event 2: 2: Class on 2025-10-01 from 11:15 to 12:00 at KOBL 231\n",
      "\n"
     ]
    }
   ],
   "source": [
    "bin_item = arr.search_by_id(2, 'binary')\n",
    "print(f\"\\n\\nArray-based List Binary Search Result for Event 2: {bin_item}\\n\")"
   ]
  },
  {
   "cell_type": "markdown",
   "id": "ff42d96a",
   "metadata": {},
   "source": [
    "If a user accidentally provides an invalid search method. The function returns with an error and instructs the user on what the valid args are."
   ]
  },
  {
   "cell_type": "code",
<<<<<<< HEAD
   "execution_count": 9,
=======
   "execution_count": 23,
>>>>>>> df00300c611a143e8dc0be9e5a16eff05fd1f6e0
   "id": "f5e17e5b",
   "metadata": {},
   "outputs": [
    {
     "name": "stdout",
     "output_type": "stream",
     "text": [
      "ERROR: Invalid search method\n",
      "Acceptable values: [linear, binary]\n",
      "\n",
      "\n",
      "Array-based List Random Search Result for Event 2: None\n",
      "\n"
     ]
    }
   ],
   "source": [
    "invalid_search_item = arr.search_by_id(2, 'random')\n",
    "print(f\"\\n\\nArray-based List Random Search Result for Event 2: {invalid_search_item}\\n\")"
   ]
  },
  {
   "cell_type": "markdown",
   "id": "719f4dad",
   "metadata": {},
   "source": [
    "If the user searches for an item that doesn't exist. The function returns an error indicating that the event was not found. "
   ]
  },
  {
   "cell_type": "code",
<<<<<<< HEAD
   "execution_count": 10,
=======
   "execution_count": 24,
>>>>>>> df00300c611a143e8dc0be9e5a16eff05fd1f6e0
   "id": "c8da6da0",
   "metadata": {},
   "outputs": [
    {
     "name": "stdout",
     "output_type": "stream",
     "text": [
      "ERROR: Event not found\n",
      "\n",
      "\n",
      "Array-based List Binary Search Result for Fake Event 13: None\n",
      "\n"
     ]
    }
   ],
   "source": [
    "fake_item = arr.search_by_id(13, 'binary')\n",
    "print(f\"\\n\\nArray-based List Binary Search Result for Fake Event 13: {fake_item}\\n\")"
   ]
  },
  {
   "cell_type": "markdown",
   "id": "9a404238",
   "metadata": {
    "id": "9a404238"
   },
   "source": [
    "## Part B"
   ]
  },
  {
   "cell_type": "code",
   "execution_count": null,
   "id": "9fd84ee2",
   "metadata": {
    "id": "9fd84ee2"
   },
   "outputs": [],
   "source": []
  },
  {
   "cell_type": "markdown",
   "id": "b10709f3",
   "metadata": {
    "id": "b10709f3"
   },
   "source": [
    "## Part C"
   ]
  },
  {
   "cell_type": "markdown",
   "id": "3c581346-52c4-45ad-9476-a6e529152b88",
   "metadata": {},
   "source": [
    "### Search by ID"
   ]
  },
  {
   "cell_type": "markdown",
   "id": "7a503929-2bef-43fd-accf-b55c64f1c4d5",
   "metadata": {},
   "source": [
    "#### Linear Search"
   ]
  },
  {
   "cell_type": "code",
   "execution_count": 35,
   "id": "3c962d2f",
   "metadata": {
    "id": "3c962d2f"
   },
   "outputs": [],
   "source": [
    "# Sample dataset of events\n",
    "n=10000\n",
    "events_a = create_event_dataset(n, \"array\")\n",
    "events_l = create_event_dataset(n, \"ll\")\n",
    "\n",
    "random.seed(93)\n",
    "id_to_search = random.randint(1,n)"
   ]
  },
  {
   "cell_type": "markdown",
   "id": "05a4f9e5-392b-45ae-8c0c-5cd49de955a6",
   "metadata": {},
   "source": [
    "##### Array-based List"
   ]
  },
  {
   "cell_type": "code",
   "execution_count": 36,
   "id": "f4deb61d-343d-410c-ae6b-1ae21e401a53",
   "metadata": {},
   "outputs": [
    {
     "name": "stdout",
     "output_type": "stream",
     "text": [
      "Event 8100 found in 704 attempts (9.298324584960938e-05 seconds)\n"
     ]
    }
   ],
   "source": [
    "# Searching unsorted data\n",
    "test_search = events_a.search_by_id(id_to_search, \"linear\")"
   ]
  },
  {
   "cell_type": "code",
   "execution_count": 37,
   "id": "9950245d-626e-416d-9fc2-4a4facb8ef07",
   "metadata": {},
   "outputs": [
    {
     "name": "stdout",
     "output_type": "stream",
     "text": [
      "Event 8100 found in 8100 attempts (0.0005221366882324219 seconds)\n"
     ]
    }
   ],
   "source": [
    "# Searching sorted data\n",
    "sorted_events_a = events_a.sort_list(by=\"id\", method=\"merge\")\n",
    "test_search = sorted_events_a.search_by_id(id_to_search, \"linear\")"
   ]
  },
  {
   "cell_type": "markdown",
   "id": "5af02477-7c4a-46a2-89cf-dfdf695e6274",
   "metadata": {},
   "source": [
    "In certain cases where the `id_to_search` is indexed lower in an unsorted array list than in a sorted array list, searching the unsorted data is more efficient. This is not to be expected in all cases and it is probably wiser in the long run to sort before searching."
   ]
  },
  {
   "cell_type": "markdown",
   "id": "b824cc7c-d2aa-47bf-bfa1-63759b146ec5",
   "metadata": {},
   "source": [
    "##### Singly-linked List"
   ]
  },
  {
   "cell_type": "code",
   "execution_count": 38,
   "id": "835db8bf-3bfa-4ee4-8f0f-909f8db91e9f",
   "metadata": {},
   "outputs": [
    {
     "name": "stdout",
     "output_type": "stream",
     "text": [
      "Event 8100 found in 5370 attempts (0.0018 seconds)\n"
     ]
    }
   ],
   "source": [
    "# Searching unsorted data\n",
    "test_search = events_l.search_by_id(id_to_search, \"linear\")"
   ]
  },
  {
   "cell_type": "code",
   "execution_count": 39,
   "id": "6ed82fa1-9ef2-4d78-ba01-642f168b8fd7",
   "metadata": {},
   "outputs": [
    {
     "name": "stdout",
     "output_type": "stream",
     "text": [
      "Event 8100 found in 8100 attempts (0.0004 seconds)\n"
     ]
    }
   ],
   "source": [
    "# Searching sorted data\n",
    "sorted_events_l = events_l.sort_list(by=\"id\", method=\"merge\")\n",
    "test_search = sorted_events_l.search_by_id(id_to_search, \"linear\")"
   ]
  },
  {
   "cell_type": "markdown",
   "id": "019fb3d3-95b5-4d2b-b5db-75cc35923187",
   "metadata": {},
   "source": [
    "Despite the sorted approach taking more attempts, this method of searching sorted data ultimately took less time than searching the unsorted data in fewer attempts."
   ]
  },
  {
   "cell_type": "markdown",
   "id": "5a371981-3aab-4085-8b20-f541f7471ea1",
   "metadata": {},
   "source": [
    "#### Binary Search"
   ]
  },
  {
   "cell_type": "markdown",
   "id": "d9183ec9-64a4-4bc5-9532-7df0748c9b30",
   "metadata": {},
   "source": [
    "##### Array-based List"
   ]
  },
  {
   "cell_type": "markdown",
   "id": "3bfe45b5-6d62-41ec-b01b-ddfaa32037d1",
   "metadata": {},
   "source": [
    "Binary Search only works on sorted datasets so we will only explore this search method on sorted data"
   ]
  },
  {
   "cell_type": "code",
   "execution_count": 41,
   "id": "5e574b27-7433-423f-82db-7e3b5f409dae",
   "metadata": {},
   "outputs": [
    {
     "name": "stdout",
     "output_type": "stream",
     "text": [
      "Event 8100 found in 11 attempts (1.0967254638671875e-05 seconds) \n"
     ]
    }
   ],
   "source": [
    "# Searching sorted data\n",
    "test_search = events_a.search_by_id(id_to_search, \"binary\")"
   ]
  },
  {
   "cell_type": "markdown",
   "id": "936c045c-bbf7-4090-84b7-19889e30b803",
   "metadata": {},
   "source": [
    "##### Singly-linked List"
   ]
  },
  {
   "cell_type": "markdown",
   "id": "e9113bc1-1ed3-4d53-89bc-015045a6df18",
   "metadata": {},
   "source": [
    "Binary Search only works on sorted datasets so we will only explore this search method on sorted data"
   ]
  },
  {
   "cell_type": "code",
   "execution_count": 42,
   "id": "92ddf6f3-9129-434d-a8ca-ebbd75f59b25",
   "metadata": {},
   "outputs": [
    {
     "name": "stdout",
     "output_type": "stream",
     "text": [
      "Event 8100 found in 11 attempts (0.0035 seconds)\n"
     ]
    }
   ],
   "source": [
    "# Searching sorted data\n",
    "test_search = events_l.search_by_id(id_to_search, \"binary\")"
   ]
  },
  {
   "cell_type": "markdown",
   "id": "16ccbe44-d77b-4855-8bf0-01eb2ac4aefc",
   "metadata": {},
   "source": [
    "The binary search algorithm for a singly-linked list is less efficient than for an array-based list. This is due to needing to traverse the list with `.next` to get to new indices, rather than accessing directly like with an array-based list."
   ]
  },
  {
   "cell_type": "markdown",
   "id": "34cb1430-df63-4ac7-8096-a303f68972aa",
   "metadata": {},
   "source": [
    "### Conflict Detection"
   ]
  },
  {
   "cell_type": "markdown",
   "id": "c72f1b8e-9564-4669-b501-ad679a0c2c2a",
   "metadata": {},
   "source": [
    "#### Array-based List"
   ]
  },
  {
   "cell_type": "markdown",
   "id": "1df33519-296b-4749-829a-f58d30ecdd64",
   "metadata": {},
   "source": [
    "#### Singly-linked List"
   ]
  },
  {
   "cell_type": "markdown",
   "id": "fda01c02",
   "metadata": {
    "id": "fda01c02"
   },
   "source": [
    "## Part D"
   ]
  },
  {
   "cell_type": "code",
   "execution_count": null,
   "id": "6ffadd01",
   "metadata": {
    "id": "6ffadd01",
    "jupyter": {
     "source_hidden": true
    }
   },
   "outputs": [],
   "source": []
  },
  {
   "cell_type": "markdown",
   "id": "dc596239",
   "metadata": {
    "id": "dc596239"
   },
   "source": [
    "## Part E"
   ]
  },
  {
   "cell_type": "markdown",
   "id": "1b2853d8",
   "metadata": {
    "id": "1b2853d8"
   },
   "source": []
  }
 ],
 "metadata": {
  "colab": {
   "provenance": []
  },
  "kernelspec": {
   "display_name": "venv",
   "language": "python",
   "name": "python3"
  },
  "language_info": {
   "codemirror_mode": {
    "name": "ipython",
    "version": 3
   },
   "file_extension": ".py",
   "mimetype": "text/x-python",
   "name": "python",
   "nbconvert_exporter": "python",
   "pygments_lexer": "ipython3",
   "version": "3.12.7"
  }
 },
 "nbformat": 4,
 "nbformat_minor": 5
}
