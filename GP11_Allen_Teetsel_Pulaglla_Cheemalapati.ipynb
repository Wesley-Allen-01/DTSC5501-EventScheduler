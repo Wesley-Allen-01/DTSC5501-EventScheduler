{
 "cells": [
  {
   "cell_type": "markdown",
   "id": "22991e1b",
   "metadata": {
    "id": "22991e1b"
   },
   "source": [
    "# DTSC 5501 - Group Project #1"
   ]
  },
  {
   "cell_type": "markdown",
   "id": "6366a053",
   "metadata": {},
   "source": [
    "# Imports"
   ]
  },
  {
   "cell_type": "code",
   "execution_count": 15,
   "id": "bb6247a8",
   "metadata": {
    "colab": {
     "base_uri": "https://localhost:8080/"
    },
    "id": "bb6247a8",
    "outputId": "a56260a0-022c-4bc2-c8ad-c9af3c2e3aa5"
   },
   "outputs": [],
   "source": [
    "import sys\n",
    "sys.path.append(\"src/\")\n",
    "from LinkedList import LinkedList\n",
    "from Event import Event\n",
    "from ArrayList import ArrayList\n",
    "import matplotlib.pyplot as plt"
   ]
  },
  {
   "cell_type": "markdown",
   "id": "9b78fa01",
   "metadata": {
    "id": "9b78fa01"
   },
   "source": [
    "## Part A"
   ]
  },
  {
   "cell_type": "markdown",
   "id": "6878b22b",
   "metadata": {},
   "source": [
    "To begin, we will initialize a test event, the Array-Based List, and the Linked List."
   ]
  },
  {
   "cell_type": "code",
   "execution_count": 16,
   "id": "a4cc580e",
   "metadata": {},
   "outputs": [],
   "source": [
    "test_event = Event(1, \"Meeting\", \"2023-10-01\", \"10:00\", \"11:00\", \"Conference Room\")\n",
    "next_event = Event(2, \"Class\", \"2025-10-01\", \"11:15\", \"12:00\", \"KOBL 231\")\n",
    "early_event = Event(4, \"Conversation\", \"2024-10-01\", \"11:05\", \"11:14\", \"Virtual\")\n",
    "\n",
    "\n",
    "events = [test_event, next_event, early_event]\n",
    "\n",
    "ll = LinkedList()\n",
    "arr = ArrayList()\n"
   ]
  },
  {
   "cell_type": "markdown",
   "id": "5e13741a",
   "metadata": {},
   "source": [
    "We can insert events into both lists by calling their respective `.insert()` methods. Further, we can call the `.list_all()` method to print the contents of both lists."
   ]
  },
  {
   "cell_type": "code",
   "execution_count": 17,
   "id": "cee9447b",
   "metadata": {},
   "outputs": [
    {
     "name": "stdout",
     "output_type": "stream",
     "text": [
      "Linked List Contents\n",
      "\n",
      "\n",
      "        Events shown below:\n",
      "        \n",
      "        -----------------------------------\n",
      "        \n",
      "        1: Meeting on 2023-10-01 from 10:00 to 11:00 at Conference Room\n",
      "\n",
      "\t-----------------------------------\n",
      "\n",
      "\t2: Class on 2025-10-01 from 11:15 to 12:00 at KOBL 231\n",
      "\n",
      "\t-----------------------------------\n",
      "\n",
      "\t4: Conversation on 2024-10-01 from 11:05 to 11:14 at Virtual\n",
      "\n",
      "\t-----------------------------------\n",
      "\n",
      "\t\n",
      "\n",
      "\n",
      "\n",
      "Array-based List Contents\n",
      "\n",
      "\n",
      "        Events shown below:\n",
      "        \n",
      "        -----------------------------------\n",
      "        \n",
      "        1: Meeting on 2023-10-01 from 10:00 to 11:00 at Conference Room\n",
      "\n",
      "\t-----------------------------------\n",
      "\n",
      "\t2: Class on 2025-10-01 from 11:15 to 12:00 at KOBL 231\n",
      "\n",
      "\t-----------------------------------\n",
      "\n",
      "\t4: Conversation on 2024-10-01 from 11:05 to 11:14 at Virtual\n",
      "\n",
      "\t-----------------------------------\n",
      "\n",
      "\t\n"
     ]
    }
   ],
   "source": [
    "for event in events:\n",
    "    ll.insert(event)\n",
    "    arr.insert(event)\n",
    "\n",
    "print(\"Linked List Contents\\n\")\n",
    "ll.list_all()\n",
    "\n",
    "print(\"\\n\\n\\nArray-based List Contents\\n\")\n",
    "arr.list_all()"
   ]
  },
  {
   "cell_type": "markdown",
   "id": "cd6eaee4",
   "metadata": {},
   "source": [
    "We can delete items from both lists by calling their respetive `.delete()` methods. The function requires a idx argument, which dictates which event is to be removed. Calling `.delete(0)` removes the item at index 0 from each list. To demonstrate, let's delete event at index 1 from the array and event at index 0 from the linked list. "
   ]
  },
  {
   "cell_type": "code",
   "execution_count": 18,
   "id": "71b8a88c",
   "metadata": {},
   "outputs": [
    {
     "name": "stdout",
     "output_type": "stream",
     "text": [
      "Linked List Contents After Deletion of Event 0\n",
      "\n",
      "\n",
      "        Events shown below:\n",
      "        \n",
      "        -----------------------------------\n",
      "        \n",
      "        2: Class on 2025-10-01 from 11:15 to 12:00 at KOBL 231\n",
      "\n",
      "\t-----------------------------------\n",
      "\n",
      "\t4: Conversation on 2024-10-01 from 11:05 to 11:14 at Virtual\n",
      "\n",
      "\t-----------------------------------\n",
      "\n",
      "\t\n",
      "\n",
      "\n",
      "\n",
      "Array-based List Contents After Deletion of Event 1\n",
      "\n",
      "\n",
      "        Events shown below:\n",
      "        \n",
      "        -----------------------------------\n",
      "        \n",
      "        1: Meeting on 2023-10-01 from 10:00 to 11:00 at Conference Room\n",
      "\n",
      "\t-----------------------------------\n",
      "\n",
      "\t4: Conversation on 2024-10-01 from 11:05 to 11:14 at Virtual\n",
      "\n",
      "\t-----------------------------------\n",
      "\n",
      "\t\n"
     ]
    }
   ],
   "source": [
    "ll.delete(0)\n",
    "arr.delete(1)\n",
    "\n",
    "print(\"Linked List Contents After Deletion of Event 0\\n\")\n",
    "ll.list_all()\n",
    "\n",
    "print(\"\\n\\n\\nArray-based List Contents After Deletion of Event 1\\n\")\n",
    "arr.list_all()"
   ]
  },
  {
   "cell_type": "markdown",
   "id": "eea363db",
   "metadata": {},
   "source": [
    "Let's add back both events. We can search through each list by calling the `.search_by_id()` method. This function requires both an id and a method argument. Id corresponds to the specific item that we want to find. Method corresponds to the search algorithm we want to use. This can be either 'linear' or 'binary'. \n",
    "\n",
    "Note: Prior to executing binary search, both lists are sorted. "
   ]
  },
  {
   "cell_type": "code",
   "execution_count": 19,
   "id": "e8da54ce",
   "metadata": {},
   "outputs": [
    {
     "name": "stdout",
     "output_type": "stream",
     "text": [
      "Linked List Contents After Re-inserting Event 0\n",
      "\n",
      "\n",
      "        Events shown below:\n",
      "        \n",
      "        -----------------------------------\n",
      "        \n",
      "        1: Meeting on 2023-10-01 from 10:00 to 11:00 at Conference Room\n",
      "\n",
      "\t-----------------------------------\n",
      "\n",
      "\t2: Class on 2025-10-01 from 11:15 to 12:00 at KOBL 231\n",
      "\n",
      "\t-----------------------------------\n",
      "\n",
      "\t4: Conversation on 2024-10-01 from 11:05 to 11:14 at Virtual\n",
      "\n",
      "\t-----------------------------------\n",
      "\n",
      "\t\n",
      "\n",
      "\n",
      "\n",
      "Array-based List Contents After Re-inserting Event 1\n",
      "\n",
      "\n",
      "        Events shown below:\n",
      "        \n",
      "        -----------------------------------\n",
      "        \n",
      "        1: Meeting on 2023-10-01 from 10:00 to 11:00 at Conference Room\n",
      "\n",
      "\t-----------------------------------\n",
      "\n",
      "\t2: Class on 2025-10-01 from 11:15 to 12:00 at KOBL 231\n",
      "\n",
      "\t-----------------------------------\n",
      "\n",
      "\t4: Conversation on 2024-10-01 from 11:05 to 11:14 at Virtual\n",
      "\n",
      "\t-----------------------------------\n",
      "\n",
      "\t\n"
     ]
    }
   ],
   "source": [
    "ll.insert(test_event, 0)\n",
    "arr.insert(next_event, 1)\n",
    "print(\"Linked List Contents After Re-inserting Event 0\\n\")\n",
    "ll.list_all()\n",
    "print(\"\\n\\n\\nArray-based List Contents After Re-inserting Event 1\\n\")\n",
    "arr.list_all()"
   ]
  },
  {
   "cell_type": "code",
   "execution_count": 20,
   "id": "8eef6926",
   "metadata": {},
   "outputs": [
    {
     "name": "stdout",
     "output_type": "stream",
     "text": [
      "Event 2 found in 2 attempts (0.0000 seconds)\n",
      "\n",
      "\n",
      "Linked List Linear Search Result for Event 2: 2: Class on 2025-10-01 from 11:15 to 12:00 at KOBL 231\n",
      "\n"
     ]
    }
   ],
   "source": [
    "lin_item = ll.search_by_id(2, 'linear')\n",
    "print(f\"\\n\\nLinked List Linear Search Result for Event 2: {lin_item}\\n\")"
   ]
  },
  {
   "cell_type": "code",
   "execution_count": 22,
   "id": "8dc81ef4",
   "metadata": {},
   "outputs": [
    {
     "name": "stdout",
     "output_type": "stream",
     "text": [
      "Event 2 found in 1 attempts (3.0994415283203125e-06 seconds) \n",
      "\n",
      "\n",
      "Array-based List Binary Search Result for Event 2: 2: Class on 2025-10-01 from 11:15 to 12:00 at KOBL 231\n",
      "\n"
     ]
    }
   ],
   "source": [
    "bin_item = arr.search_by_id(2, 'binary')\n",
    "print(f\"\\n\\nArray-based List Binary Search Result for Event 2: {bin_item}\\n\")"
   ]
  },
  {
   "cell_type": "markdown",
   "id": "ff42d96a",
   "metadata": {},
   "source": [
    "If a user accidentally provides an invalid search method. The function returns with an error and instructs the user on what the valid args are."
   ]
  },
  {
   "cell_type": "code",
   "execution_count": 23,
   "id": "f5e17e5b",
   "metadata": {},
   "outputs": [
    {
     "name": "stdout",
     "output_type": "stream",
     "text": [
      "ERROR: Invalid search method\n",
      "Acceptable values: [linear, binary]\n",
      "\n",
      "\n",
      "Array-based List Random Search Result for Event 2: None\n",
      "\n"
     ]
    }
   ],
   "source": [
    "invalid_search_item = arr.search_by_id(2, 'random')\n",
    "print(f\"\\n\\nArray-based List Random Search Result for Event 2: {invalid_search_item}\\n\")"
   ]
  },
  {
   "cell_type": "markdown",
   "id": "719f4dad",
   "metadata": {},
   "source": [
    "If the user searches for an item that doesn't exist. The function returns an error indicating that the event was not found. "
   ]
  },
  {
   "cell_type": "code",
   "execution_count": 24,
   "id": "c8da6da0",
   "metadata": {},
   "outputs": [
    {
     "name": "stdout",
     "output_type": "stream",
     "text": [
      "ERROR: Event not found\n",
      "\n",
      "\n",
      "Array-based List Binary Search Result for Fake Event 13: None\n",
      "\n"
     ]
    }
   ],
   "source": [
    "fake_item = arr.search_by_id(13, 'binary')\n",
    "print(f\"\\n\\nArray-based List Binary Search Result for Fake Event 13: {fake_item}\\n\")"
   ]
  },
  {
   "cell_type": "markdown",
   "id": "9a404238",
   "metadata": {
    "id": "9a404238"
   },
   "source": [
    "## Part B"
   ]
  },
  {
   "cell_type": "code",
   "execution_count": null,
   "id": "9fd84ee2",
   "metadata": {
    "id": "9fd84ee2"
   },
   "outputs": [],
   "source": []
  },
  {
   "cell_type": "markdown",
   "id": "b10709f3",
   "metadata": {
    "id": "b10709f3"
   },
   "source": [
    "## Part C"
   ]
  },
  {
   "cell_type": "code",
   "execution_count": null,
   "id": "3c962d2f",
   "metadata": {
    "id": "3c962d2f"
   },
   "outputs": [],
   "source": []
  },
  {
   "cell_type": "markdown",
   "id": "fda01c02",
   "metadata": {
    "id": "fda01c02"
   },
   "source": [
    "## Part D"
   ]
  },
  {
   "cell_type": "code",
   "execution_count": null,
   "id": "6ffadd01",
   "metadata": {
    "id": "6ffadd01"
   },
   "outputs": [],
   "source": []
  },
  {
   "cell_type": "markdown",
   "id": "dc596239",
   "metadata": {
    "id": "dc596239"
   },
   "source": [
    "## Part E"
   ]
  },
  {
   "cell_type": "markdown",
   "id": "1b2853d8",
   "metadata": {
    "id": "1b2853d8"
   },
   "source": []
  }
 ],
 "metadata": {
  "colab": {
   "provenance": []
  },
  "kernelspec": {
   "display_name": "venv",
   "language": "python",
   "name": "python3"
  },
  "language_info": {
   "codemirror_mode": {
    "name": "ipython",
    "version": 3
   },
   "file_extension": ".py",
   "mimetype": "text/x-python",
   "name": "python",
   "nbconvert_exporter": "python",
   "pygments_lexer": "ipython3",
   "version": "3.12.7"
  }
 },
 "nbformat": 4,
 "nbformat_minor": 5
}
