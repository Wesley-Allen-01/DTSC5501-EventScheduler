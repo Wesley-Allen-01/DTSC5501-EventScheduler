{
 "cells": [
  {
   "cell_type": "markdown",
   "id": "22991e1b",
   "metadata": {
    "id": "22991e1b"
   },
   "source": [
    "# DTSC 5501 - Group Project #1"
   ]
  },
  {
   "cell_type": "markdown",
   "id": "6366a053",
   "metadata": {},
   "source": [
    "# Imports"
   ]
  },
  {
   "cell_type": "code",
   "execution_count": 2,
   "id": "bb6247a8",
   "metadata": {
    "colab": {
     "base_uri": "https://localhost:8080/"
    },
    "id": "bb6247a8",
    "outputId": "a56260a0-022c-4bc2-c8ad-c9af3c2e3aa5"
   },
   "outputs": [],
   "source": [
    "import sys\n",
    "sys.path.append(\"src/\")\n",
    "from LinkedList import LinkedList\n",
    "from Event import Event\n",
    "from ArrayList import ArrayList\n",
    "import matplotlib.pyplot as plt"
   ]
  },
  {
   "cell_type": "markdown",
   "id": "9b78fa01",
   "metadata": {
    "id": "9b78fa01"
   },
   "source": [
    "## Part A"
   ]
  },
  {
   "cell_type": "markdown",
   "id": "6878b22b",
   "metadata": {},
   "source": [
    "To begin, we will initialize a test event, the Array-Based List, and the Linked List."
   ]
  },
  {
   "cell_type": "code",
   "execution_count": 3,
   "id": "a4cc580e",
   "metadata": {},
   "outputs": [],
   "source": [
    "test_event = Event(1, \"Meeting\", \"2023-10-01\", \"10:00\", \"11:00\", \"Conference Room\")\n",
    "ll = LinkedList()\n",
    "arr = ArrayList()\n"
   ]
  },
  {
   "cell_type": "markdown",
   "id": "5e13741a",
   "metadata": {},
   "source": [
    "We can insert events into both lists by calling their respective `.insert()` methods. Further, we can call the `.list_all()` method to print the contents of both lists."
   ]
  },
  {
   "cell_type": "code",
   "execution_count": 4,
   "id": "cee9447b",
   "metadata": {},
   "outputs": [
    {
     "name": "stdout",
     "output_type": "stream",
     "text": [
      "Linked List Contents\n",
      "\n",
      "\n",
      "        Events shown below:\n",
      "        \n",
      "        -----------------------------------\n",
      "        \n",
      "        1: Meeting on 2023-10-01 from 10:00 to 11:00 at Conference Room\n",
      "\n",
      "\t-----------------------------------\n",
      "\n",
      "\t\n",
      "\n",
      "\n",
      "\n",
      "Array-based List Contents\n",
      "\n",
      "\n",
      "        Events shown below:\n",
      "        \n",
      "        -----------------------------------\n",
      "        \n",
      "        1: Meeting on 2023-10-01 from 10:00 to 11:00 at Conference Room\n",
      "\n",
      "\t-----------------------------------\n",
      "\n",
      "\t\n"
     ]
    }
   ],
   "source": [
    "ll.insert(test_event)\n",
    "arr.insert(test_event)\n",
    "\n",
    "print(\"Linked List Contents\\n\")\n",
    "ll.list_all()\n",
    "\n",
    "print(\"\\n\\n\\nArray-based List Contents\\n\")\n",
    "arr.list_all()"
   ]
  },
  {
   "cell_type": "markdown",
   "id": "0fda6668",
   "metadata": {},
   "source": [
    "Let's move forward by adding a few more events."
   ]
  },
  {
   "cell_type": "code",
   "execution_count": null,
   "id": "7cdd131b",
   "metadata": {},
   "outputs": [],
   "source": [
    "lists = [ll, arr]\n",
    "next_event = Event(2, \"Class\", \"2023-10-01\", \"11:15\", \"12:00\", \"KOBL 231\")\n",
    "\n",
    "\n",
    "early_event = Event(4, \"Conversation\", \"2023-10-01\", \"11:05\", \"11:14\", \"Virtual\")\n",
    "\n",
    "\n",
    "new_head_event = Event(5, \"Workout\", \"2023-10-10\", \"7:00\", \"8:30\", \"Rec Center\")\n",
    "\n",
    "\n",
    "tail_insert_event = Event(17, \"Manager Meeting\", \"2023-10-01\", \"15:30\", \"16:30\", \"Home\")\n",
    "\n",
    "\n",
    "evs = [next_enve]"
   ]
  },
  {
   "cell_type": "markdown",
   "id": "cd6eaee4",
   "metadata": {},
   "source": []
  },
  {
   "cell_type": "markdown",
   "id": "9a404238",
   "metadata": {
    "id": "9a404238"
   },
   "source": [
    "## Part B"
   ]
  },
  {
   "cell_type": "code",
   "execution_count": null,
   "id": "9fd84ee2",
   "metadata": {
    "id": "9fd84ee2"
   },
   "outputs": [],
   "source": []
  },
  {
   "cell_type": "markdown",
   "id": "b10709f3",
   "metadata": {
    "id": "b10709f3"
   },
   "source": [
    "## Part C"
   ]
  },
  {
   "cell_type": "code",
   "execution_count": 1,
   "id": "3c962d2f",
   "metadata": {
    "id": "3c962d2f"
   },
   "outputs": [
    {
     "name": "stdout",
     "output_type": "stream",
     "text": [
      "This should be in Amber's branch, trying to push to main\n"
     ]
    }
   ],
   "source": [
    "print(\"This should be in Amber's branch, trying to push to main\")"
   ]
  },
  {
   "cell_type": "markdown",
   "id": "fda01c02",
   "metadata": {
    "id": "fda01c02"
   },
   "source": [
    "## Part D"
   ]
  },
  {
   "cell_type": "code",
   "execution_count": null,
   "id": "6ffadd01",
   "metadata": {
    "id": "6ffadd01"
   },
   "outputs": [],
   "source": []
  },
  {
   "cell_type": "markdown",
   "id": "dc596239",
   "metadata": {
    "id": "dc596239"
   },
   "source": [
    "## Part E"
   ]
  },
  {
   "cell_type": "markdown",
   "id": "1b2853d8",
   "metadata": {
    "id": "1b2853d8"
   },
   "source": []
  }
 ],
 "metadata": {
  "colab": {
   "provenance": []
  },
  "kernelspec": {
   "display_name": "venv",
   "language": "python",
   "name": "python3"
  },
  "language_info": {
   "codemirror_mode": {
    "name": "ipython",
    "version": 3
   },
   "file_extension": ".py",
   "mimetype": "text/x-python",
   "name": "python",
   "nbconvert_exporter": "python",
   "pygments_lexer": "ipython3",
   "version": "3.12.7"
  }
 },
 "nbformat": 4,
 "nbformat_minor": 5
}
