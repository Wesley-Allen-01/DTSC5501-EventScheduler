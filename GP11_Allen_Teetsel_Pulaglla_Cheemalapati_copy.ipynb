{
  "cells": [
    {
      "cell_type": "markdown",
      "id": "22991e1b",
      "metadata": {
        "id": "22991e1b"
      },
      "source": [
        "# DTSC 5501 - Group Project #1"
      ]
    },
    {
      "cell_type": "markdown",
      "id": "6366a053",
      "metadata": {
        "id": "6366a053"
      },
      "source": [
        "# Imports"
      ]
    },
    {
      "cell_type": "code",
      "execution_count": null,
      "id": "bb6247a8",
      "metadata": {
        "id": "bb6247a8"
      },
      "outputs": [],
      "source": [
        "import sys\n",
        "sys.path.append(\"src/\")\n",
        "from LinkedList import LinkedList\n",
        "from Event import Event\n",
        "from ArrayList import ArrayList\n",
        "from GenerateData import create_event_dataset\n",
        "import matplotlib.pyplot as plt\n",
        "import random\n",
        "import time\n",
        "import pandas as pd"
      ]
    },
    {
      "cell_type": "markdown",
      "id": "9b78fa01",
      "metadata": {
        "id": "9b78fa01"
      },
      "source": [
        "## Part A"
      ]
    },
    {
      "cell_type": "markdown",
      "id": "6878b22b",
      "metadata": {
        "id": "6878b22b"
      },
      "source": [
        "To begin, we will initialize a test event, the Array-Based List, and the Linked List."
      ]
    },
    {
      "cell_type": "code",
      "execution_count": null,
      "id": "a4cc580e",
      "metadata": {
        "id": "a4cc580e"
      },
      "outputs": [],
      "source": [
        "test_event = Event(1, \"Meeting\", \"2023-10-01\", \"10:00\", \"11:00\", \"Conference Room\")\n",
        "next_event = Event(2, \"Class\", \"2025-10-01\", \"11:15\", \"12:00\", \"KOBL 231\")\n",
        "early_event = Event(4, \"Conversation\", \"2024-10-01\", \"11:05\", \"11:14\", \"Virtual\")\n",
        "\n",
        "\n",
        "events = [test_event, next_event, early_event]\n",
        "\n",
        "ll = LinkedList()\n",
        "arr = ArrayList()\n"
      ]
    },
    {
      "cell_type": "markdown",
      "id": "5e13741a",
      "metadata": {
        "id": "5e13741a"
      },
      "source": [
        "We can insert events into both lists by calling their respective `.insert()` methods. Further, we can call the `.list_all()` method to print the contents of both lists."
      ]
    },
    {
      "cell_type": "code",
      "execution_count": null,
      "id": "cee9447b",
      "metadata": {
        "id": "cee9447b",
        "outputId": "920a04df-b8f5-4895-8053-fcae0763c7c5"
      },
      "outputs": [
        {
          "name": "stdout",
          "output_type": "stream",
          "text": [
            "Linked List Contents\n",
            "\n",
            "\n",
            "        Events shown below:\n",
            "        \n",
            "        -----------------------------------\n",
            "        \n",
            "        1: Meeting on 2023-10-01 from 10:00 to 11:00 at Conference Room\n",
            "\n",
            "\t-----------------------------------\n",
            "\n",
            "\t2: Class on 2025-10-01 from 11:15 to 12:00 at KOBL 231\n",
            "\n",
            "\t-----------------------------------\n",
            "\n",
            "\t4: Conversation on 2024-10-01 from 11:05 to 11:14 at Virtual\n",
            "\n",
            "\t-----------------------------------\n",
            "\n",
            "\t\n",
            "\n",
            "\n",
            "\n",
            "Array-based List Contents\n",
            "\n",
            "\n",
            "        Events shown below:\n",
            "        \n",
            "        -----------------------------------\n",
            "        \n",
            "        1: Meeting on 2023-10-01 from 10:00 to 11:00 at Conference Room\n",
            "\n",
            "\t-----------------------------------\n",
            "\n",
            "\t2: Class on 2025-10-01 from 11:15 to 12:00 at KOBL 231\n",
            "\n",
            "\t-----------------------------------\n",
            "\n",
            "\t4: Conversation on 2024-10-01 from 11:05 to 11:14 at Virtual\n",
            "\n",
            "\t-----------------------------------\n",
            "\n",
            "\t\n"
          ]
        }
      ],
      "source": [
        "for event in events:\n",
        "    ll.insert(event)\n",
        "    arr.insert(event)\n",
        "\n",
        "print(\"Linked List Contents\\n\")\n",
        "ll.list_all()\n",
        "\n",
        "print(\"\\n\\n\\nArray-based List Contents\\n\")\n",
        "arr.list_all()"
      ]
    },
    {
      "cell_type": "markdown",
      "id": "cd6eaee4",
      "metadata": {
        "id": "cd6eaee4"
      },
      "source": [
        "We can delete items from both lists by calling their respetive `.delete()` methods. The function requires a idx argument, which dictates which event is to be removed. Calling `.delete(0)` removes the item at index 0 from each list. To demonstrate, let's delete event at index 1 from the array and event at index 0 from the linked list."
      ]
    },
    {
      "cell_type": "code",
      "execution_count": null,
      "id": "71b8a88c",
      "metadata": {
        "id": "71b8a88c",
        "outputId": "b5dc10bd-e571-4a7a-c734-c483bbeafced"
      },
      "outputs": [
        {
          "name": "stdout",
          "output_type": "stream",
          "text": [
            "Linked List Contents After Deletion of Event 0\n",
            "\n",
            "\n",
            "        Events shown below:\n",
            "        \n",
            "        -----------------------------------\n",
            "        \n",
            "        2: Class on 2025-10-01 from 11:15 to 12:00 at KOBL 231\n",
            "\n",
            "\t-----------------------------------\n",
            "\n",
            "\t4: Conversation on 2024-10-01 from 11:05 to 11:14 at Virtual\n",
            "\n",
            "\t-----------------------------------\n",
            "\n",
            "\t\n",
            "\n",
            "\n",
            "\n",
            "Array-based List Contents After Deletion of Event 1\n",
            "\n",
            "\n",
            "        Events shown below:\n",
            "        \n",
            "        -----------------------------------\n",
            "        \n",
            "        1: Meeting on 2023-10-01 from 10:00 to 11:00 at Conference Room\n",
            "\n",
            "\t-----------------------------------\n",
            "\n",
            "\t4: Conversation on 2024-10-01 from 11:05 to 11:14 at Virtual\n",
            "\n",
            "\t-----------------------------------\n",
            "\n",
            "\t\n"
          ]
        }
      ],
      "source": [
        "ll.delete(0)\n",
        "arr.delete(1)\n",
        "\n",
        "print(\"Linked List Contents After Deletion of Event 0\\n\")\n",
        "ll.list_all()\n",
        "\n",
        "print(\"\\n\\n\\nArray-based List Contents After Deletion of Event 1\\n\")\n",
        "arr.list_all()"
      ]
    },
    {
      "cell_type": "markdown",
      "id": "eea363db",
      "metadata": {
        "id": "eea363db"
      },
      "source": [
        "Let's add back both events. We can search through each list by calling the `.search_by_id()` method. This function requires both an id and a method argument. Id corresponds to the specific item that we want to find. Method corresponds to the search algorithm we want to use. This can be either 'linear' or 'binary'.\n",
        "\n",
        "Note: Prior to executing binary search, both lists are sorted."
      ]
    },
    {
      "cell_type": "code",
      "execution_count": null,
      "id": "e8da54ce",
      "metadata": {
        "id": "e8da54ce",
        "outputId": "78eb1aeb-0589-4661-b600-c02108140e90"
      },
      "outputs": [
        {
          "name": "stdout",
          "output_type": "stream",
          "text": [
            "Linked List Contents After Re-inserting Event 0\n",
            "\n",
            "\n",
            "        Events shown below:\n",
            "        \n",
            "        -----------------------------------\n",
            "        \n",
            "        1: Meeting on 2023-10-01 from 10:00 to 11:00 at Conference Room\n",
            "\n",
            "\t-----------------------------------\n",
            "\n",
            "\t2: Class on 2025-10-01 from 11:15 to 12:00 at KOBL 231\n",
            "\n",
            "\t-----------------------------------\n",
            "\n",
            "\t4: Conversation on 2024-10-01 from 11:05 to 11:14 at Virtual\n",
            "\n",
            "\t-----------------------------------\n",
            "\n",
            "\t\n",
            "\n",
            "\n",
            "\n",
            "Array-based List Contents After Re-inserting Event 1\n",
            "\n",
            "\n",
            "        Events shown below:\n",
            "        \n",
            "        -----------------------------------\n",
            "        \n",
            "        1: Meeting on 2023-10-01 from 10:00 to 11:00 at Conference Room\n",
            "\n",
            "\t-----------------------------------\n",
            "\n",
            "\t2: Class on 2025-10-01 from 11:15 to 12:00 at KOBL 231\n",
            "\n",
            "\t-----------------------------------\n",
            "\n",
            "\t4: Conversation on 2024-10-01 from 11:05 to 11:14 at Virtual\n",
            "\n",
            "\t-----------------------------------\n",
            "\n",
            "\t\n"
          ]
        }
      ],
      "source": [
        "ll.insert(test_event, 0)\n",
        "arr.insert(next_event, 1)\n",
        "print(\"Linked List Contents After Re-inserting Event 0\\n\")\n",
        "ll.list_all()\n",
        "print(\"\\n\\n\\nArray-based List Contents After Re-inserting Event 1\\n\")\n",
        "arr.list_all()"
      ]
    },
    {
      "cell_type": "code",
      "execution_count": null,
      "id": "8eef6926",
      "metadata": {
        "id": "8eef6926",
        "outputId": "f2b98d30-a0af-4e46-b4ba-12d98502866a"
      },
      "outputs": [
        {
          "name": "stdout",
          "output_type": "stream",
          "text": [
            "Event 2 found in 2 attempts (0.0000 seconds)\n",
            "\n",
            "\n",
            "Linked List Linear Search Result for Event 2: 2: Class on 2025-10-01 from 11:15 to 12:00 at KOBL 231\n",
            "\n"
          ]
        }
      ],
      "source": [
        "lin_item = ll.search_by_id(2, 'linear')\n",
        "print(f\"\\n\\nLinked List Linear Search Result for Event 2: {lin_item}\\n\")"
      ]
    },
    {
      "cell_type": "code",
      "execution_count": null,
      "id": "8dc81ef4",
      "metadata": {
        "id": "8dc81ef4",
        "outputId": "de82f0b6-6837-4bfb-98ad-db03868c8b96"
      },
      "outputs": [
        {
          "name": "stdout",
          "output_type": "stream",
          "text": [
            "Event 2 found in 1 attempts (2.1457672119140625e-06 seconds) \n",
            "\n",
            "\n",
            "Array-based List Binary Search Result for Event 2: 2: Class on 2025-10-01 from 11:15 to 12:00 at KOBL 231\n",
            "\n"
          ]
        }
      ],
      "source": [
        "bin_item = arr.search_by_id(2, 'binary')\n",
        "print(f\"\\n\\nArray-based List Binary Search Result for Event 2: {bin_item}\\n\")"
      ]
    },
    {
      "cell_type": "markdown",
      "id": "ff42d96a",
      "metadata": {
        "id": "ff42d96a"
      },
      "source": [
        "If a user accidentally provides an invalid search method. The function returns with an error and instructs the user on what the valid args are."
      ]
    },
    {
      "cell_type": "code",
      "execution_count": null,
      "id": "f5e17e5b",
      "metadata": {
        "id": "f5e17e5b",
        "outputId": "85ff8f08-67a6-4059-c342-29459f3a2a78"
      },
      "outputs": [
        {
          "name": "stdout",
          "output_type": "stream",
          "text": [
            "ERROR: Invalid search method\n",
            "Acceptable values: [linear, binary]\n",
            "\n",
            "\n",
            "Array-based List Random Search Result for Event 2: None\n",
            "\n"
          ]
        }
      ],
      "source": [
        "invalid_search_item = arr.search_by_id(2, 'random')\n",
        "print(f\"\\n\\nArray-based List Random Search Result for Event 2: {invalid_search_item}\\n\")"
      ]
    },
    {
      "cell_type": "markdown",
      "id": "719f4dad",
      "metadata": {
        "id": "719f4dad"
      },
      "source": [
        "If the user searches for an item that doesn't exist. The function returns an error indicating that the event was not found."
      ]
    },
    {
      "cell_type": "code",
      "execution_count": null,
      "id": "c8da6da0",
      "metadata": {
        "id": "c8da6da0",
        "outputId": "f62aa13e-f4ff-479d-84de-c7dd469c774b"
      },
      "outputs": [
        {
          "name": "stdout",
          "output_type": "stream",
          "text": [
            "ERROR: Event not found\n",
            "\n",
            "\n",
            "Array-based List Binary Search Result for Fake Event 13: None\n",
            "\n"
          ]
        }
      ],
      "source": [
        "fake_item = arr.search_by_id(13, 'binary')\n",
        "print(f\"\\n\\nArray-based List Binary Search Result for Fake Event 13: {fake_item}\\n\")"
      ]
    },
    {
      "cell_type": "markdown",
      "id": "9a404238",
      "metadata": {
        "id": "9a404238"
      },
      "source": [
        "## Part B"
      ]
    },
    {
      "cell_type": "code",
      "execution_count": null,
      "id": "9fd84ee2",
      "metadata": {
        "id": "9fd84ee2"
      },
      "outputs": [],
      "source": [
        "tests = [50, 500, 5000, 50000]\n",
        "methods = [\"merge\", \"quick\", \"insertion\"]\n",
        "arr_results = {m: [] for m in methods}\n",
        "ll_results = {m: [] for m in methods}"
      ]
    },
    {
      "cell_type": "markdown",
      "id": "27163e48",
      "metadata": {
        "id": "27163e48"
      },
      "source": [
        "The code below runs each sorting algorithm for each type of list (ArrayList and LinkedList). The values are recorded in a dictionary."
      ]
    },
    {
      "cell_type": "code",
      "execution_count": null,
      "id": "3768ff58",
      "metadata": {
        "id": "3768ff58"
      },
      "outputs": [],
      "source": [
        "\n",
        "for test in tests:\n",
        "    arrs = create_event_dataset(test, \"array\")\n",
        "    lls = create_event_dataset(test, \"ll\")\n",
        "    for method in methods:\n",
        "        start = time.time()\n",
        "        arrs.sort_list(by=\"id\", method=method)\n",
        "        end = time.time()\n",
        "        arr_results[method].append(end - start)\n",
        "\n",
        "        start = time.time()\n",
        "        lls.sort_list(by=\"id\", method=method)\n",
        "        end = time.time()\n",
        "        ll_results[method].append(end - start)\n",
        ""
      ]
    },
    {
      "cell_type": "markdown",
      "id": "9eea2d08",
      "metadata": {
        "id": "9eea2d08"
      },
      "source": [
        "Below is a plot visualizing the sorting performance on the array list. It can be seen that the insertion sort performed significantly worse than the other sorting algorithms. Note that the yaxis is on a log scale.\n",
        "\n",
        "Another consideration is that our insertion sort implementation modified the list in place, whereas the others returned a new instance of an ArrayList that was sorted."
      ]
    },
    {
      "cell_type": "code",
      "execution_count": null,
      "id": "3a080381",
      "metadata": {
        "id": "3a080381",
        "outputId": "52851b6d-7cac-4a14-9e1b-c1421a6095f1"
      },
      "outputs": [
        {
          "data": {
            "image/png": "[encoded data removed]",
            "text/plain": [
              "<Figure size 1000x600 with 1 Axes>"
            ]
          },
          "metadata": {},
          "output_type": "display_data"
        }
      ],
      "source": [
        "plt.figure(figsize=(10, 6))\n",
        "\n",
        "for method, times in arr_results.items():\n",
        "    plt.plot(tests, times, marker='o', label=f'ArrayList - {method.capitalize()} Sort')\n",
        "\n",
        "plt.xlabel(\"Number of events\")\n",
        "plt.ylabel(\"Time (seconds)\")\n",
        "plt.title(\"ArrayList Sorting Performance\")\n",
        "plt.legend()\n",
        "plt.yscale('log')"
      ]
    },
    {
      "cell_type": "markdown",
      "id": "1a9b9641",
      "metadata": {
        "id": "1a9b9641"
      },
      "source": [
        "The plot below shows the results of the experiment for the Linked List. Each algorithm performed similarly, with quick sort slightly performing the worst and Insertion sort performing the best."
      ]
    },
    {
      "cell_type": "code",
      "execution_count": null,
      "id": "f25b308a",
      "metadata": {
        "id": "f25b308a",
        "outputId": "7e83d010-7a5a-4705-a0f9-d2580de5bcfe"
      },
      "outputs": [
        {
          "data": {
            "image/png": "[encoded data removed]",
            "text/plain": [
              "<Figure size 1000x600 with 1 Axes>"
            ]
          },
          "metadata": {},
          "output_type": "display_data"
        }
      ],
      "source": [
        "plt.figure(figsize=(10, 6))\n",
        "\n",
        "for method, times in ll_results.items():\n",
        "    plt.plot(tests, times, marker='o', label=f'LinkedList - {method.capitalize()} Sort')\n",
        "\n",
        "plt.xlabel(\"Number of events\")\n",
        "plt.ylabel(\"Time (seconds)\")\n",
        "plt.title(\"LinkedList Sorting Performance\")\n",
        "plt.legend()\n",
        "plt.yscale('log')"
      ]
    },
    {
      "cell_type": "markdown",
      "id": "173c653f",
      "metadata": {
        "id": "173c653f"
      },
      "source": [
        "The code below displays a table with sorting times for each algorithm and class. Note that sorting the array list was generally more efficient than sorting the linked list. This may be due to the additional memory overhead associated with the linked list."
      ]
    },
    {
      "cell_type": "code",
      "execution_count": null,
      "id": "897dcb31",
      "metadata": {
        "id": "897dcb31",
        "outputId": "c551057e-12f3-49eb-df8c-7c3dcdbb2548"
      },
      "outputs": [
        {
          "data": {
            "text/html": [
              "<div>\n",
              "<style scoped>\n",
              "    .dataframe tbody tr th:only-of-type {\n",
              "        vertical-align: middle;\n",
              "    }\n",
              "\n",
              "    .dataframe tbody tr th {\n",
              "        vertical-align: top;\n",
              "    }\n",
              "\n",
              "    .dataframe thead th {\n",
              "        text-align: right;\n",
              "    }\n",
              "</style>\n",
              "<table border=\"1\" class=\"dataframe\">\n",
              "  <thead>\n",
              "    <tr style=\"text-align: right;\">\n",
              "      <th></th>\n",
              "      <th>ArrayList_Merge</th>\n",
              "      <th>ArrayList_Quick</th>\n",
              "      <th>ArrayList_Insertion</th>\n",
              "      <th>LinkedList_Merge</th>\n",
              "      <th>LinkedList_Quick</th>\n",
              "      <th>LinkedList_Insertion</th>\n",
              "    </tr>\n",
              "  </thead>\n",
              "  <tbody>\n",
              "    <tr>\n",
              "      <th>50</th>\n",
              "      <td>0.000065</td>\n",
              "      <td>0.000071</td>\n",
              "      <td>0.000079</td>\n",
              "      <td>0.000548</td>\n",
              "      <td>0.000435</td>\n",
              "      <td>0.000071</td>\n",
              "    </tr>\n",
              "    <tr>\n",
              "      <th>500</th>\n",
              "      <td>0.000681</td>\n",
              "      <td>0.000890</td>\n",
              "      <td>0.006430</td>\n",
              "      <td>0.017107</td>\n",
              "      <td>0.025037</td>\n",
              "      <td>0.003915</td>\n",
              "    </tr>\n",
              "    <tr>\n",
              "      <th>5000</th>\n",
              "      <td>0.008327</td>\n",
              "      <td>0.012422</td>\n",
              "      <td>0.779949</td>\n",
              "      <td>1.355914</td>\n",
              "      <td>1.982653</td>\n",
              "      <td>0.452509</td>\n",
              "    </tr>\n",
              "    <tr>\n",
              "      <th>50000</th>\n",
              "      <td>0.098605</td>\n",
              "      <td>0.158404</td>\n",
              "      <td>76.719362</td>\n",
              "      <td>127.378363</td>\n",
              "      <td>343.551531</td>\n",
              "      <td>46.399254</td>\n",
              "    </tr>\n",
              "  </tbody>\n",
              "</table>\n",
              "</div>"
            ],
            "text/plain": [
              "       ArrayList_Merge  ArrayList_Quick  ArrayList_Insertion  \\\n",
              "50            0.000065         0.000071             0.000079   \n",
              "500           0.000681         0.000890             0.006430   \n",
              "5000          0.008327         0.012422             0.779949   \n",
              "50000         0.098605         0.158404            76.719362   \n",
              "\n",
              "       LinkedList_Merge  LinkedList_Quick  LinkedList_Insertion  \n",
              "50             0.000548          0.000435              0.000071  \n",
              "500            0.017107          0.025037              0.003915  \n",
              "5000           1.355914          1.982653              0.452509  \n",
              "50000        127.378363        343.551531             46.399254  "
            ]
          },
          "execution_count": 33,
          "metadata": {},
          "output_type": "execute_result"
        }
      ],
      "source": [
        "results_df = pd.DataFrame({\n",
        "    \"ArrayList_Merge\": arr_results[\"merge\"],\n",
        "    \"ArrayList_Quick\": arr_results[\"quick\"],\n",
        "    \"ArrayList_Insertion\": arr_results[\"insertion\"],\n",
        "    \"LinkedList_Merge\": ll_results[\"merge\"],\n",
        "    \"LinkedList_Quick\": ll_results[\"quick\"],\n",
        "    \"LinkedList_Insertion\": ll_results[\"insertion\"],\n",
        "}, index=tests)\n",
        "results_df"
      ]
    },
    {
      "cell_type": "markdown",
      "id": "b10709f3",
      "metadata": {
        "id": "b10709f3"
      },
      "source": [
        "## Part C"
      ]
    },
    {
      "cell_type": "markdown",
      "id": "3c581346-52c4-45ad-9476-a6e529152b88",
      "metadata": {
        "id": "3c581346-52c4-45ad-9476-a6e529152b88"
      },
      "source": [
        "### Search by ID"
      ]
    },
    {
      "cell_type": "markdown",
      "id": "7a503929-2bef-43fd-accf-b55c64f1c4d5",
      "metadata": {
        "id": "7a503929-2bef-43fd-accf-b55c64f1c4d5"
      },
      "source": [
        "#### Linear Search"
      ]
    },
    {
      "cell_type": "code",
      "execution_count": null,
      "id": "3c962d2f",
      "metadata": {
        "id": "3c962d2f"
      },
      "outputs": [],
      "source": [
        "# Sample dataset of events\n",
        "n=10000\n",
        "events_a = create_event_dataset(n, \"array\")\n",
        "events_l = create_event_dataset(n, \"ll\")\n",
        "\n",
        "random.seed(93)\n",
        "id_to_search = random.randint(1,n)"
      ]
    },
    {
      "cell_type": "markdown",
      "id": "05a4f9e5-392b-45ae-8c0c-5cd49de955a6",
      "metadata": {
        "id": "05a4f9e5-392b-45ae-8c0c-5cd49de955a6"
      },
      "source": [
        "##### Array-based List"
      ]
    },
    {
      "cell_type": "code",
      "execution_count": null,
      "id": "f4deb61d-343d-410c-ae6b-1ae21e401a53",
      "metadata": {
        "id": "f4deb61d-343d-410c-ae6b-1ae21e401a53",
        "outputId": "5405958e-2fc3-48fc-9a48-cb77a620f979"
      },
      "outputs": [
        {
          "name": "stdout",
          "output_type": "stream",
          "text": [
            "Event 8100 found in 7142 attempts (0.0006220340728759766 seconds)\n"
          ]
        }
      ],
      "source": [
        "# Searching unsorted data\n",
        "test_search = events_a.search_by_id(id_to_search, \"linear\")"
      ]
    },
    {
      "cell_type": "code",
      "execution_count": null,
      "id": "9950245d-626e-416d-9fc2-4a4facb8ef07",
      "metadata": {
        "id": "9950245d-626e-416d-9fc2-4a4facb8ef07",
        "outputId": "03f209dd-e806-4a8c-b45c-5a571e09c0fe"
      },
      "outputs": [
        {
          "name": "stdout",
          "output_type": "stream",
          "text": [
            "Event 8100 found in 8100 attempts (0.00028896331787109375 seconds)\n"
          ]
        }
      ],
      "source": [
        "# Searching sorted data\n",
        "sorted_events_a = events_a.sort_list(by=\"id\", method=\"merge\")\n",
        "test_search = sorted_events_a.search_by_id(id_to_search, \"linear\")"
      ]
    },
    {
      "cell_type": "markdown",
      "id": "5af02477-7c4a-46a2-89cf-dfdf695e6274",
      "metadata": {
        "id": "5af02477-7c4a-46a2-89cf-dfdf695e6274"
      },
      "source": [
        "In certain cases where the `id_to_search` is indexed lower in an unsorted array list than in a sorted array list, searching the unsorted data is more efficient. This is not to be expected in all cases and it is probably wiser in the long run to sort before searching."
      ]
    },
    {
      "cell_type": "markdown",
      "id": "b824cc7c-d2aa-47bf-bfa1-63759b146ec5",
      "metadata": {
        "id": "b824cc7c-d2aa-47bf-bfa1-63759b146ec5"
      },
      "source": [
        "##### Singly-linked List"
      ]
    },
    {
      "cell_type": "code",
      "execution_count": null,
      "id": "835db8bf-3bfa-4ee4-8f0f-909f8db91e9f",
      "metadata": {
        "id": "835db8bf-3bfa-4ee4-8f0f-909f8db91e9f",
        "outputId": "0a6a6202-8bf0-49ca-b3ec-ca1afe298ad5"
      },
      "outputs": [
        {
          "name": "stdout",
          "output_type": "stream",
          "text": [
            "Event 8100 found in 1061 attempts (0.0002 seconds)\n"
          ]
        }
      ],
      "source": [
        "# Searching unsorted data\n",
        "test_search = events_l.search_by_id(id_to_search, \"linear\")"
      ]
    },
    {
      "cell_type": "code",
      "execution_count": null,
      "id": "6ed82fa1-9ef2-4d78-ba01-642f168b8fd7",
      "metadata": {
        "id": "6ed82fa1-9ef2-4d78-ba01-642f168b8fd7",
        "outputId": "b6d2aee3-66b7-49d6-be6e-10fd116c77b1"
      },
      "outputs": [
        {
          "name": "stdout",
          "output_type": "stream",
          "text": [
            "Event 8100 found in 8100 attempts (0.0004 seconds)\n"
          ]
        }
      ],
      "source": [
        "# Searching sorted data\n",
        "sorted_events_l = events_l.sort_list(by=\"id\", method=\"merge\")\n",
        "test_search = sorted_events_l.search_by_id(id_to_search, \"linear\")"
      ]
    },
    {
      "cell_type": "markdown",
      "id": "019fb3d3-95b5-4d2b-b5db-75cc35923187",
      "metadata": {
        "id": "019fb3d3-95b5-4d2b-b5db-75cc35923187"
      },
      "source": [
        "Despite the sorted approach taking more attempts, this method of searching sorted data ultimately took less time than searching the unsorted data in fewer attempts."
      ]
    },
    {
      "cell_type": "markdown",
      "id": "5a371981-3aab-4085-8b20-f541f7471ea1",
      "metadata": {
        "id": "5a371981-3aab-4085-8b20-f541f7471ea1"
      },
      "source": [
        "#### Binary Search"
      ]
    },
    {
      "cell_type": "markdown",
      "id": "d9183ec9-64a4-4bc5-9532-7df0748c9b30",
      "metadata": {
        "id": "d9183ec9-64a4-4bc5-9532-7df0748c9b30"
      },
      "source": [
        "##### Array-based List"
      ]
    },
    {
      "cell_type": "markdown",
      "id": "3bfe45b5-6d62-41ec-b01b-ddfaa32037d1",
      "metadata": {
        "id": "3bfe45b5-6d62-41ec-b01b-ddfaa32037d1"
      },
      "source": [
        "Binary Search only works on sorted datasets so we will only explore this search method on sorted data"
      ]
    },
    {
      "cell_type": "code",
      "execution_count": null,
      "id": "5e574b27-7433-423f-82db-7e3b5f409dae",
      "metadata": {
        "id": "5e574b27-7433-423f-82db-7e3b5f409dae",
        "outputId": "109af8b5-5f08-458e-d0e7-b71f48fe362c"
      },
      "outputs": [
        {
          "name": "stdout",
          "output_type": "stream",
          "text": [
            "Event 8100 found in 11 attempts (2.86102294921875e-06 seconds) \n"
          ]
        }
      ],
      "source": [
        "# Searching sorted data\n",
        "sorted_events_a = events_a.sort_list(by=\"id\", method=\"merge\")\n",
        "test_search = sorted_events_a.search_by_id(id_to_search, \"binary\")"
      ]
    },
    {
      "cell_type": "markdown",
      "id": "936c045c-bbf7-4090-84b7-19889e30b803",
      "metadata": {
        "id": "936c045c-bbf7-4090-84b7-19889e30b803"
      },
      "source": [
        "##### Singly-linked List"
      ]
    },
    {
      "cell_type": "markdown",
      "id": "e9113bc1-1ed3-4d53-89bc-015045a6df18",
      "metadata": {
        "id": "e9113bc1-1ed3-4d53-89bc-015045a6df18"
      },
      "source": [
        "Binary Search only works on sorted datasets so we will only explore this search method on sorted data"
      ]
    },
    {
      "cell_type": "code",
      "execution_count": null,
      "id": "92ddf6f3-9129-434d-a8ca-ebbd75f59b25",
      "metadata": {
        "id": "92ddf6f3-9129-434d-a8ca-ebbd75f59b25",
        "outputId": "57470b65-fa00-4fdc-f115-0fd575ab2494"
      },
      "outputs": [
        {
          "name": "stdout",
          "output_type": "stream",
          "text": [
            "Event 8100 found in 11 attempts (0.0035 seconds)\n",
            "8100: Event KYN on 2027-09-03 from 11:30 to 14:00 at New Orleans\n"
          ]
        }
      ],
      "source": [
        "# Searching sorted data\n",
        "sorted_events_l = events_l.sort_list(by=\"id\", method=\"merge\")\n",
        "test_search = sorted_events_l.search_by_id(id_to_search, \"binary\")"
      ]
    },
    {
      "cell_type": "markdown",
      "id": "16ccbe44-d77b-4855-8bf0-01eb2ac4aefc",
      "metadata": {
        "id": "16ccbe44-d77b-4855-8bf0-01eb2ac4aefc"
      },
      "source": [
        "The binary search algorithm for a singly-linked list is less efficient than for an array-based list. This is due to needing to traverse the list with `.next` to get to new indices, rather than accessing directly like with an array-based list."
      ]
    },
    {
      "cell_type": "markdown",
      "id": "34cb1430-df63-4ac7-8096-a303f68972aa",
      "metadata": {
        "id": "34cb1430-df63-4ac7-8096-a303f68972aa"
      },
      "source": [
        "### Conflict Detection"
      ]
    },
    {
      "cell_type": "markdown",
      "id": "c72f1b8e-9564-4669-b501-ad679a0c2c2a",
      "metadata": {
        "id": "c72f1b8e-9564-4669-b501-ad679a0c2c2a"
      },
      "source": [
        "#### Array-based List"
      ]
    },
    {
      "cell_type": "markdown",
      "id": "ce65fe2c-2bf8-4ea1-9c14-b2667e095fe6",
      "metadata": {
        "id": "ce65fe2c-2bf8-4ea1-9c14-b2667e095fe6"
      },
      "source": [
        "##### Complexity\n",
        "The algorithm for conflict detection on array-based lists begins by merge sorting events by date; this method has time complexity of $O(n log(n))$\n",
        "\n",
        "The nested loop over events has time complexity $O(n^2)$ in the worst case. However, since the loop breaks when dates do not match, actual complexity will be lower. In the best case where all events are on a different date, complexity would be $O(n)$. In the average case, complexity will be close to $O(n\\cdot k)$ where $k$ is the average number of events per day. Since `create_event_dataset` spreads events over 4 years, $k = \\frac{n}{4 \\cdot 365} = \\frac{n}{1460}$ events/day.\n",
        "\n",
        "Therefore, `detect_conflicts()` has overall complexity (average case) of $O(n\\cdot log(n) + n\\cdot \\frac{n}{1460})$\n",
        "\n",
        "In the worst case, complexity is $O(n\\cdot log(n) + n^2) \\Rightarrow O(n^2)$\n",
        "\n",
        "##### Optimizations\n",
        "We optimized this method by sorting events by date before checking for conflicts. This reduces the number of checks required by quickly eliminating events on different dates."
      ]
    },
    {
      "cell_type": "code",
      "execution_count": null,
      "id": "e458d38e-e267-4626-8ac9-a42be4727ba1",
      "metadata": {
        "id": "e458d38e-e267-4626-8ac9-a42be4727ba1",
        "outputId": "83e31c55-209e-46da-ee74-e8aa48af775c"
      },
      "outputs": [
        {
          "name": "stdout",
          "output_type": "stream",
          "text": [
            "4 conflicts identified in 2.4080276489257812e-05 seconds\n",
            "- Meeting A conflicts with Meeting B on 2025-10-14\n",
            "- Meeting B conflicts with Meeting C on 2025-10-14\n",
            "- Meeting B conflicts with Meeting D on 2025-10-14\n",
            "- Meeting C conflicts with Meeting D on 2025-10-14\n"
          ]
        }
      ],
      "source": [
        "arr = ArrayList()\n",
        "# Add conflicting events\n",
        "arr.insert(Event(11, \"Meeting A\", \"2025-10-14\", \"09:00\", \"10:00\", \"Room 1\")) # conflicts with 2\n",
        "arr.insert(Event(12, \"Meeting B\", \"2025-10-14\", \"09:30\", \"10:30\", \"Room 2\")) # conflicts with 1,3,4\n",
        "arr.insert(Event(13, \"Meeting C\", \"2025-10-14\", \"10:15\", \"11:00\", \"Room 3\")) # conflicts with 2,4\n",
        "arr.insert(Event(14, \"Meeting D\", \"2025-10-14\", \"10:00\", \"10:30\", \"Room 4\")) # conflicts with 2,3,4\n",
        "arr.insert(Event(15, \"Meeting E\", \"2025-10-15\", \"09:00\", \"10:00\", \"Room 5\")) # no conflict (different day)\n",
        "\n",
        "# Test for conflicts\n",
        "conflicts = arr.detect_conflicts()\n",
        "if conflicts:\n",
        "    for e1, e2 in conflicts:\n",
        "        print(f\"- {e1.title} conflicts with {e2.title} on {e1.date}\")\n",
        "else:\n",
        "    print(\"No conflicts detected\")"
      ]
    },
    {
      "cell_type": "code",
      "execution_count": null,
      "id": "d45dc8d6-7b2e-4fa8-9c1b-a78760fae533",
      "metadata": {
        "id": "d45dc8d6-7b2e-4fa8-9c1b-a78760fae533",
        "outputId": "b8d3f50e-c4ae-49ce-b9d9-4955b187f02c"
      },
      "outputs": [
        {
          "name": "stdout",
          "output_type": "stream",
          "text": [
            "5806 conflicts identified in 0.0568079948425293 seconds\n"
          ]
        }
      ],
      "source": [
        "# Test on 10,000 events\n",
        "events = create_event_dataset(10000, \"array\")\n",
        "# Test for conflicts\n",
        "conflicts = events.detect_conflicts()"
      ]
    },
    {
      "cell_type": "markdown",
      "id": "1df33519-296b-4749-829a-f58d30ecdd64",
      "metadata": {
        "id": "1df33519-296b-4749-829a-f58d30ecdd64"
      },
      "source": [
        "#### Singly-linked List"
      ]
    },
    {
      "cell_type": "markdown",
      "id": "dbc5d7aa-166b-41b5-a61b-d0ba5f47ff45",
      "metadata": {
        "id": "dbc5d7aa-166b-41b5-a61b-d0ba5f47ff45"
      },
      "source": [
        "##### Complexity\n",
        "\n",
        "Before optimization, time complexity was $O(n^2)$\n",
        "\n",
        "After optimization, time complexity is $O(n + m^2)$ where $m$ is events per date. In the case of 10,000 events spread over 4 years (this is what `create_event_dataset` produces), we should only average $m \\approx 7$ events per day. This adds negligible complexity for n=10,000.\n",
        "\n",
        "##### Optimizations\n",
        "\n",
        "I needed to optimize the base conflict-detection algorithm for Array-based lists to run efficiently on Singly-linked lists with up to 10,000 nodes. Prior to optimization,  `_detect_conflicts()` took approximately 30 seconds to run on 10,000 events. After optimization, runtime is down to fractions of a second. This was achieved by initially grouping events by date. This reduces the number of comparisons required: instead of comparing every event against every other, we only compare events on the same day."
      ]
    },
    {
      "cell_type": "code",
      "execution_count": null,
      "id": "bae0c630-8171-404f-8a0a-b30c326b844d",
      "metadata": {
        "id": "bae0c630-8171-404f-8a0a-b30c326b844d",
        "outputId": "fafdae95-1a06-4c17-b4b1-10e6bebb1fc8"
      },
      "outputs": [
        {
          "name": "stdout",
          "output_type": "stream",
          "text": [
            "4 conflicts detected in 1.71661376953125e-05 seconds\n",
            "- Meeting A conflicts with Meeting B on 2025-10-14\n",
            "- Meeting B conflicts with Meeting C on 2025-10-14\n",
            "- Meeting B conflicts with Meeting D on 2025-10-14\n",
            "- Meeting C conflicts with Meeting D on 2025-10-14\n"
          ]
        }
      ],
      "source": [
        "ll = LinkedList()\n",
        "# Add conflicting events\n",
        "ll.insert(Event(11, \"Meeting A\", \"2025-10-14\", \"09:00\", \"10:00\", \"Room 1\")) # conflicts with 12\n",
        "ll.insert(Event(15, \"Meeting E\", \"2025-10-15\", \"09:00\", \"10:00\", \"Room 5\")) # no conflict (different day)\n",
        "ll.insert(Event(12, \"Meeting B\", \"2025-10-14\", \"09:30\", \"10:30\", \"Room 2\")) # conflicts with 11,13,14\n",
        "ll.insert(Event(13, \"Meeting C\", \"2025-10-14\", \"10:15\", \"11:00\", \"Room 3\")) # conflicts with 12,14\n",
        "ll.insert(Event(14, \"Meeting D\", \"2025-10-14\", \"10:00\", \"10:30\", \"Room 4\")) # conflicts with 12,13,14\n",
        "\n",
        "# Test for conflicts\n",
        "conflicts = ll._detect_conflicts()\n",
        "if conflicts:\n",
        "    for e1, e2 in conflicts:\n",
        "        print(f\"- {e1.title} conflicts with {e2.title} on {e1.date}\")\n",
        "else:\n",
        "    print(\"No conflicts detected\")"
      ]
    },
    {
      "cell_type": "code",
      "execution_count": null,
      "id": "17cc20bc-2c56-4304-abd6-63f37172ff58",
      "metadata": {
        "id": "17cc20bc-2c56-4304-abd6-63f37172ff58",
        "outputId": "87edb189-4372-4b80-e5f2-ebef06899b88"
      },
      "outputs": [
        {
          "name": "stdout",
          "output_type": "stream",
          "text": [
            "5810 conflicts detected in 0.029371976852416992 seconds\n"
          ]
        }
      ],
      "source": [
        "# Test on 10,000 events\n",
        "events = create_event_dataset(10000, \"ll\")\n",
        "# Test for conflicts\n",
        "conflicts = events._detect_conflicts()"
      ]
    },
    {
      "cell_type": "markdown",
      "id": "026203c6-42a6-4239-87c7-2e4e2665a73a",
      "metadata": {
        "id": "026203c6-42a6-4239-87c7-2e4e2665a73a"
      },
      "source": [
        "#### Tests"
      ]
    },
    {
      "cell_type": "code",
      "execution_count": null,
      "id": "4e998489-a70e-4a07-a481-b2d5fbc954ec",
      "metadata": {
        "id": "4e998489-a70e-4a07-a481-b2d5fbc954ec",
        "outputId": "f2cfdb46-418a-4006-94fe-dbbedf96156b"
      },
      "outputs": [
        {
          "name": "stdout",
          "output_type": "stream",
          "text": [
            "Event 1 found in 13 attempts (0.0004 seconds)\n",
            "1: Event A on 2028-09-10 from 15:00 to 16:00 at Barcelona\n"
          ]
        }
      ],
      "source": [
        "sys.path.append(\"tests/\")\n",
        "from BinarySearch_test import test_pos_binary_search_by_id\n",
        "test_pos_binary_search_by_id()"
      ]
    },
    {
      "cell_type": "code",
      "execution_count": null,
      "id": "c455754a-d2b7-493f-bcf7-21b62726ae48",
      "metadata": {
        "id": "c455754a-d2b7-493f-bcf7-21b62726ae48",
        "outputId": "dbfc20ed-c33d-4e1b-f64e-459f62f616bd"
      },
      "outputs": [
        {
          "name": "stdout",
          "output_type": "stream",
          "text": [
            "ERROR: id must be integer\n",
            "ERROR: Event ID not found\n"
          ]
        }
      ],
      "source": [
        "from BinarySearch_test import test_neg_binary_search_by_id\n",
        "test_neg_binary_search_by_id()"
      ]
    },
    {
      "cell_type": "code",
      "execution_count": null,
      "id": "c30a7fa7-8aa2-4ded-b595-ac44d768f5bc",
      "metadata": {
        "id": "c30a7fa7-8aa2-4ded-b595-ac44d768f5bc",
        "outputId": "c64c041e-34c2-4de7-98b1-ba9ed0aa9213"
      },
      "outputs": [
        {
          "name": "stdout",
          "output_type": "stream",
          "text": [
            "Event 17 found in 2508 attempts (0.0002 seconds)\n"
          ]
        }
      ],
      "source": [
        "from LinearSearch_test import test_pos_linear_search_by_id\n",
        "test_pos_linear_search_by_id()"
      ]
    },
    {
      "cell_type": "code",
      "execution_count": null,
      "id": "8bba7567-bb1d-479c-b4eb-6a298b77de1d",
      "metadata": {
        "id": "8bba7567-bb1d-479c-b4eb-6a298b77de1d",
        "outputId": "d7bb154c-11d5-4ee3-cb13-6ba112648181"
      },
      "outputs": [
        {
          "name": "stdout",
          "output_type": "stream",
          "text": [
            "ERROR: Event ID not found\n",
            "ERROR: Event ID not found\n"
          ]
        }
      ],
      "source": [
        "from LinearSearch_test import test_neg_linear_search_by_id\n",
        "test_neg_linear_search_by_id()"
      ]
    },
    {
      "cell_type": "markdown",
      "id": "fda01c02",
      "metadata": {
        "id": "fda01c02"
      },
      "source": [
        "## Part D"
      ]
    },
    {
      "cell_type": "markdown",
      "source": [
        "Scenario:\n",
        "\n",
        "Our boss wants the Campus Event Scheduling System to scale up to 1 million events. We therefore analyse the memory usage for the array-list and the linked-list, suggest any structural optimizations, and sketch a design for parallel conflict detection using multiple cores."
      ],
      "metadata": {
        "id": "fhwaf6eQLt0k"
      },
      "id": "fhwaf6eQLt0k"
    },
    {
      "cell_type": "markdown",
      "source": [
        "## **1. Memory Usage Estimation**\n",
        "\n",
        "Each *Event* object stores an ID, title, date, time, and location. Let's assume:\n",
        "\n",
        "Each object roughly stores:\n",
        "\n",
        "•\tan ID (i.e. int type): 4 bytes\n",
        "\n",
        "•\ttitle, date, time, location: ~100 bytes total (i.e. strings + references)\n",
        "\n",
        "•\tObject overhead in Python: ~60 bytes (it is the extra memory that Python uses to store information about our data - not the data itself, ex: type of data etc.)\n",
        "\n",
        "Therefore, that is approx. **170 bytes per Event** (which is a rough estimate).\n",
        "\n",
        "**Array-List (Python List):**\n",
        "\n",
        "•\tPython lists store pointers to objects and not the objects themselves.\n",
        "\n",
        "•\tEach pointer (or) reference takes ~ 8 bytes.\n",
        "\n",
        "•\tSo, total memory estimation = 1,000,000 events * (170 bytes per Event + 8 bytes per reference) **~ 178 MB total** (approx.)\n",
        "\n",
        "**Linked List:**\n",
        "\n",
        "Each node stores:\n",
        "\n",
        "•\tReference to Event (~ 8 bytes)\n",
        "\n",
        "•\tReference to the next node (~ 8 bytes)\n",
        "\n",
        "•\tPython object overhead (~ 60 bytes) i.e. ~ 76 bytes per node.\n",
        "\n",
        "•\tSo, total memory estimation = 1,000,000 events * (170 bytes per Event + 76 bytes per node) **~ 246 MB total** (approx.)\n"
      ],
      "metadata": {
        "id": "GhrD9Y1jL2vh"
      },
      "id": "GhrD9Y1jL2vh"
    },
    {
      "cell_type": "markdown",
      "source": [
        "![image.png](data:image/png;base64,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)"
      ],
      "metadata": {
        "id": "w4WwQITYMgP0"
      },
      "id": "w4WwQITYMgP0"
    },
    {
      "cell_type": "markdown",
      "source": [
        "Extra Memory Requirement = (246 - 178) / 178 x 100 = 38.2%\n",
        "\n",
        "Thus, the linked-list implementation requires **~38%** more memory than the array-list for 1M events.\n",
        "\n",
        "**Why the Array-List Is More Memory Efficient?**\n",
        "\n",
        "The main reason is that an Array-List uses fewer extra memory references when compared to a linked list.\n",
        "\n",
        "**Array-List Memory Use:**\n",
        "\n",
        "•\tEach event in an array-list only needs one reference (a pointer in the list).\n",
        "\n",
        "•\tPython lists keep their elements together in one continuous block of memory.\n",
        "\n",
        "•\tThe additional space used per event is about **8 bytes**.\n",
        "\n",
        "•\tSo, for every event, the total extra memory required is roughly **8 bytes**.\n",
        "\n",
        "**Linked List Memory Use:**\n",
        "\n",
        "•\tEach linked list node holds two references: one to the event and one to the next node.\n",
        "\n",
        "•\tEvery node also has its own small Python object overhead (around 60 bytes).\n",
        "\n",
        "•\tAltogether, each event in a linked list uses about **76 extra bytes** (8 + 8 + 60).\n",
        "\n",
        "**Why This Matters?**\n",
        "\n",
        "•\tWith one million events, the linked list would use roughly **68 MB more memory** than an array-list.\n",
        "\n",
        "•\tThat’s about a **38%** increase in memory use.\n",
        "\n",
        "•\tAt even larger scales, like one billion events, this difference could reach **68 GB**, which is significant.\n",
        "\n",
        "**Access Speed**\n",
        "\n",
        "•\tArray-lists keep data stored together, so the computer can access nearby items quickly.\n",
        "\n",
        "•\tLinked lists spread their data across memory, which slows access.\n",
        "\n",
        "•\tIn real use, array-lists can be **2–5 times faster** for sequential reading and processing.\n",
        "\n",
        "**Conclusion:**\n",
        "\n",
        "•\tArray-list uses less memory (~ 178 MB).\n",
        "\n",
        "•\tLinked List uses more memory (~ 246 MB). That is due to extra node objects and pointers.\n",
        "\n",
        "•\tAlso, Array-list has better cache locality and faster sequential access."
      ],
      "metadata": {
        "id": "je64cRrPMu7M"
      },
      "id": "je64cRrPMu7M"
    },
    {
      "cell_type": "markdown",
      "source": [
        "## **2. Suggested Optimizations for Large-Scale Data**\n",
        "\n",
        "### **i) Indexing by Date or Event ID:**\n",
        "\n",
        "We can maintain an *Index Dictionary* for quick lookup:\n",
        "\n",
        "*index = {event.id: event}*\n",
        "\n",
        "This avoids using the linear or binary search and also reduces the search time to $O(1)$.\n",
        "\n",
        "**Big-O Complexity Comparison:**\n",
        "\n",
        "![image.png](data:image/png;base64,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)\n",
        "\n",
        "Binary search works very well with arrays but not with linked lists.\n",
        "\n",
        "•\t**In arrays**, we can go straight to the middle element in constant time $O(1)$ using its index.\n",
        "\n",
        "*Example: mid_element = array[len(array)//2]*\n",
        "\n",
        "This gives us the midpoint right away.\n",
        "\n",
        "•\t**In linked lists**, we can’t jump directly to the middle. We have to move through each node one by one until we reach the halfway point, which takes $O(n)$ time.\n",
        "\n",
        "Because of this, doing binary search on a linked list ends up taking $O(n log n)$ time instead of $O(log n)$.\n",
        "\n",
        "That means it’s not really faster than a simple linear search.\n",
        "\n",
        "### **ii) Hybrid Structure:**\n",
        "\n",
        "We can use an *Array-List* (or Python List) for the main storage of events (good for sorting of events) and a *HashMap* (or Dictionary) for direct access or lookups of the events.\n",
        "\n",
        "•\t**Array List:** It keeps a chronological order and stores the items in order - for ex., sorted by date or time. It is great for sorting the elements because they are stored contiguously in memory, making the sorting algorithms faster. But searching for a specific event (ex - event with event_ID = 12345) would take $O(n)$ time if we go one by one.\n",
        "\n",
        "•\t**HashMap:** It helps with a quick ID lookup. In Python, this is basically a Dictionary which stores data as key-value pairs - for ex., *{event_id: event_object}*. We can instantly access any event if we know its ID in $O(1)$ average time. But HashMaps are unordered, so we cannot easily sort or iterate it in order.\n",
        "\n",
        "**Why Quick Sort Works Best for Arrays?**\n",
        "\n",
        "•\tIt can rearrange elements directly in the array using their index positions.\n",
        "\n",
        "•\tOn average, it runs in $O(n log n)$ time and is often faster than merge sort in real cases.\n",
        "\n",
        "•\tArrays store data in a continuous block of memory, which helps the computer read it faster.\n",
        "\n",
        "•\tIt uses less extra memory compared to merge sort.\n",
        "\n",
        "**Why Merge Sort Works Best for Linked Lists?**\n",
        "\n",
        "•\tIt can split the list easily by following the next pointers, so there’s no need to use indexes.\n",
        "\n",
        "•\tIt doesn’t depend on random access to find the middle of the list.\n",
        "\n",
        "•\tWhen two sorted linked lists are merged, it only takes $O(n)$ time and doesn’t need extra space.\n",
        "\n",
        "•\tThe overall time complexity stays $O(n log n)$ for linked lists.\n",
        "\n",
        "Putting them together (i.e. the hybrid structure idea), we can use both the structures at the same time:\n",
        "\n",
        "***array_list = [] # keeps events sorted by date/time***\n",
        "\n",
        "***event_map = {}   # quick lookup by the event ID***\n",
        "\n",
        "When we add a new event:\n",
        "\n",
        "•\tWe append it to the array_list (and later sort it if needed)\n",
        "\n",
        "•\tAnd then we add it to the event_map with its ID as the key\n",
        "\n",
        "This way:\n",
        "\n",
        "•\tWe can sort and display the events easily (using the Array)\n",
        "\n",
        "•\tAnd search or update the events instantly (using the HashMap)\n",
        "\n",
        "In short:\n",
        "\n",
        "•\tArray-List = keeps the things *in order* (good for sorting).\n",
        "\n",
        "•\tHashMap = gives *instant access* by using the key (good for searching).\n",
        "\n",
        "•\tHybrid = best of both the worlds – i.e. fast searches AND easy sorting.\n",
        "\n",
        "### **iii) Grouped Conflict Checks:**\n",
        "\n",
        "Normally, if we want to find which events overlap in time, we would have to check *every event against every other event*. This means if we have 1,000 events, we end up performing 1,000 x 1,000 = 1,000,000 checks. That is what leads to $O(n^2)$ time – which is very slow when the number of events gets bigger and bigger.\n",
        "\n",
        "Therefore, instead of checking all events with all other events, we can group them first - for example:\n",
        "\n",
        "•\tPut all events that happen on the **same date** in one group\n",
        "\n",
        "•\tor even better, in the **same hour block** (like 9–10 AM, 10–11 AM, etc.), in one group\n",
        "\n",
        "Then, we only check for conflicts within each of those small groups, since events on different days or time blocks cannot possibly overlap with each other."
      ],
      "metadata": {
        "id": "0-cUG7GOMvQx"
      },
      "id": "0-cUG7GOMvQx"
    },
    {
      "cell_type": "markdown",
      "source": [
        "Let’s consider we have these 6 events:\n",
        "\n",
        "![image.png](data:image/png;base64,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)\n",
        "\n",
        "If we check all pairs, 6x6 = 36 checks i.e. $O(n^2)$\n",
        "\n",
        "But if we **group by date** first:\n",
        "\n",
        "•\tOct 15 group: A, B, C\n",
        "\n",
        "•\tOct 16 group: D, E\n",
        "\n",
        "•\tOct 17 group: F\n",
        "\n",
        "Now we only check inside each group:\n",
        "\n",
        "•\tOct 15: 3x3 = 9 checks\n",
        "\n",
        "•\tOct 16: 2x2 = 4 checks\n",
        "\n",
        "•\tOct 17: 1x1 = 1 check\n",
        "\n",
        "Total = 9+4+1 = 14 checks instead of 36. That is much faster!\n",
        "\n",
        "### **iv) Use of External Storage:**\n",
        "\n",
        "For 1M+ events, we can either use a database or a file-backed structure (for ex., maybe a .csv, .json etc.)\n",
        "\n",
        "•\tExample: SQLite or Pandas Data Frame.\n",
        "\n",
        "•\tAnd load only relevant events into memory when needed.\n",
        "\n",
        "**Why Databases Handle Large Data Better?**\n",
        "\n",
        "•\tThey include built-in *query optimization*, so searches and updates are done efficiently.\n",
        "\n",
        "•\tThey are designed to *store and manage billions of records* without slowing down.\n",
        "\n",
        "•\tData is kept on disk, so it stays safe and *doesn’t get lost* when the program stops running."
      ],
      "metadata": {
        "id": "H6krFixBOioj"
      },
      "id": "H6krFixBOioj"
    },
    {
      "cell_type": "markdown",
      "source": [
        "## **3. Parallel Conflict Detection (Multi-Core Idea)**\n",
        "\n",
        "Conflict detection means to check if any events overlap in time. Instead of checking all the pairs of events (which is slow), we can parallelize the process of checking:\n",
        "\n",
        "The main idea for this: Divide the Events by Date\n",
        "\n",
        "1.\tSplit events by date into smaller chunks. For ex., events from Jan-Mar go to Core 1, Apr-June go to Core 2, etc.\n",
        "\n",
        "2.\tEach core runs *conflict detection independently* within its subset.\n",
        "\n",
        "3.\tThen we combine the results at the end."
      ],
      "metadata": {
        "id": "y_Uu4d4FQaW6"
      },
      "id": "y_Uu4d4FQaW6"
    },
    {
      "cell_type": "markdown",
      "source": [
        "![image.png](data:image/png;base64,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)"
      ],
      "metadata": {
        "id": "xVkSbjeLSatZ"
      },
      "id": "xVkSbjeLSatZ"
    },
    {
      "cell_type": "markdown",
      "source": [
        "**Performance with Parallelization:**\n",
        "\n",
        "![image.png](data:image/png;base64,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)"
      ],
      "metadata": {
        "id": "9sAe25KWeuFK"
      },
      "id": "9sAe25KWeuFK"
    },
    {
      "cell_type": "markdown",
      "source": [
        "**Why This Works?**\n",
        "\n",
        "•\tEvents that occur on different dates can’t overlap, so they can be checked separately.\n",
        "\n",
        "•\tEach core can work on its own set of events without needing to share data.\n",
        "\n",
        "•\tUsing more cores speeds up the process almost in direct proportion - for example, 4 cores can make it about 4 times faster."
      ],
      "metadata": {
        "id": "m5VSYyHje5va"
      },
      "id": "m5VSYyHje5va"
    },
    {
      "cell_type": "markdown",
      "id": "dc596239",
      "metadata": {
        "id": "dc596239"
      },
      "source": [
        "## Part E"
      ]
    },
    {
      "cell_type": "markdown",
      "id": "1b2853d8",
      "metadata": {
        "id": "1b2853d8"
      },
      "source": [
        "Please see README.md"
      ]
    }
  ],
  "metadata": {
    "colab": {
      "provenance": []
    },
    "kernelspec": {
      "display_name": "venv",
      "language": "python",
      "name": "python3"
    },
    "language_info": {
      "codemirror_mode": {
        "name": "ipython",
        "version": 3
      },
      "file_extension": ".py",
      "mimetype": "text/x-python",
      "name": "python",
      "nbconvert_exporter": "python",
      "pygments_lexer": "ipython3",
      "version": "3.12.7"
    }
  },
  "nbformat": 4,
  "nbformat_minor": 5
}