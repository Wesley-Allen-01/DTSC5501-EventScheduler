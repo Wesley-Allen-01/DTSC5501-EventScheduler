{
 "cells": [
  {
   "cell_type": "markdown",
   "id": "22991e1b",
   "metadata": {
    "id": "22991e1b"
   },
   "source": [
    "# DTSC 5501 - Group Project #1"
   ]
  },
  {
   "cell_type": "markdown",
   "id": "6366a053",
   "metadata": {},
   "source": [
    "# Imports"
   ]
  },
  {
   "cell_type": "code",
   "execution_count": 32,
   "id": "bb6247a8",
   "metadata": {
    "colab": {
     "base_uri": "https://localhost:8080/"
    },
    "id": "bb6247a8",
    "outputId": "a56260a0-022c-4bc2-c8ad-c9af3c2e3aa5"
   },
   "outputs": [],
   "source": [
    "import sys\n",
    "sys.path.append(\"src/\")\n",
    "from LinkedList import LinkedList\n",
    "from Event import Event\n",
    "from ArrayList import ArrayList\n",
    "from GenerateData import create_event_dataset\n",
    "import matplotlib.pyplot as plt\n",
    "import random\n",
    "import time\n",
    "import pandas as pd"
   ]
  },
  {
   "cell_type": "markdown",
   "id": "9b78fa01",
   "metadata": {
    "id": "9b78fa01"
   },
   "source": [
    "## Part A"
   ]
  },
  {
   "cell_type": "markdown",
   "id": "6878b22b",
   "metadata": {},
   "source": [
    "To begin, we will initialize a test event, the Array-Based List, and the Linked List."
   ]
  },
  {
   "cell_type": "code",
   "execution_count": 2,
   "id": "a4cc580e",
   "metadata": {},
   "outputs": [],
   "source": [
    "test_event = Event(1, \"Meeting\", \"2023-10-01\", \"10:00\", \"11:00\", \"Conference Room\")\n",
    "next_event = Event(2, \"Class\", \"2025-10-01\", \"11:15\", \"12:00\", \"KOBL 231\")\n",
    "early_event = Event(4, \"Conversation\", \"2024-10-01\", \"11:05\", \"11:14\", \"Virtual\")\n",
    "\n",
    "\n",
    "events = [test_event, next_event, early_event]\n",
    "\n",
    "ll = LinkedList()\n",
    "arr = ArrayList()\n"
   ]
  },
  {
   "cell_type": "markdown",
   "id": "5e13741a",
   "metadata": {},
   "source": [
    "We can insert events into both lists by calling their respective `.insert()` methods. Further, we can call the `.list_all()` method to print the contents of both lists."
   ]
  },
  {
   "cell_type": "code",
   "execution_count": 3,
   "id": "cee9447b",
   "metadata": {},
   "outputs": [
    {
     "name": "stdout",
     "output_type": "stream",
     "text": [
      "Linked List Contents\n",
      "\n",
      "\n",
      "        Events shown below:\n",
      "        \n",
      "        -----------------------------------\n",
      "        \n",
      "        1: Meeting on 2023-10-01 from 10:00 to 11:00 at Conference Room\n",
      "\n",
      "\t-----------------------------------\n",
      "\n",
      "\t2: Class on 2025-10-01 from 11:15 to 12:00 at KOBL 231\n",
      "\n",
      "\t-----------------------------------\n",
      "\n",
      "\t4: Conversation on 2024-10-01 from 11:05 to 11:14 at Virtual\n",
      "\n",
      "\t-----------------------------------\n",
      "\n",
      "\t\n",
      "\n",
      "\n",
      "\n",
      "Array-based List Contents\n",
      "\n",
      "\n",
      "        Events shown below:\n",
      "        \n",
      "        -----------------------------------\n",
      "        \n",
      "        1: Meeting on 2023-10-01 from 10:00 to 11:00 at Conference Room\n",
      "\n",
      "\t-----------------------------------\n",
      "\n",
      "\t2: Class on 2025-10-01 from 11:15 to 12:00 at KOBL 231\n",
      "\n",
      "\t-----------------------------------\n",
      "\n",
      "\t4: Conversation on 2024-10-01 from 11:05 to 11:14 at Virtual\n",
      "\n",
      "\t-----------------------------------\n",
      "\n",
      "\t\n"
     ]
    }
   ],
   "source": [
    "for event in events:\n",
    "    ll.insert(event)\n",
    "    arr.insert(event)\n",
    "\n",
    "print(\"Linked List Contents\\n\")\n",
    "ll.list_all()\n",
    "\n",
    "print(\"\\n\\n\\nArray-based List Contents\\n\")\n",
    "arr.list_all()"
   ]
  },
  {
   "cell_type": "markdown",
   "id": "cd6eaee4",
   "metadata": {},
   "source": [
    "We can delete items from both lists by calling their respetive `.delete()` methods. The function requires a idx argument, which dictates which event is to be removed. Calling `.delete(0)` removes the item at index 0 from each list. To demonstrate, let's delete event at index 1 from the array and event at index 0 from the linked list. "
   ]
  },
  {
   "cell_type": "code",
   "execution_count": 4,
   "id": "71b8a88c",
   "metadata": {},
   "outputs": [
    {
     "name": "stdout",
     "output_type": "stream",
     "text": [
      "Linked List Contents After Deletion of Event 0\n",
      "\n",
      "\n",
      "        Events shown below:\n",
      "        \n",
      "        -----------------------------------\n",
      "        \n",
      "        2: Class on 2025-10-01 from 11:15 to 12:00 at KOBL 231\n",
      "\n",
      "\t-----------------------------------\n",
      "\n",
      "\t4: Conversation on 2024-10-01 from 11:05 to 11:14 at Virtual\n",
      "\n",
      "\t-----------------------------------\n",
      "\n",
      "\t\n",
      "\n",
      "\n",
      "\n",
      "Array-based List Contents After Deletion of Event 1\n",
      "\n",
      "\n",
      "        Events shown below:\n",
      "        \n",
      "        -----------------------------------\n",
      "        \n",
      "        1: Meeting on 2023-10-01 from 10:00 to 11:00 at Conference Room\n",
      "\n",
      "\t-----------------------------------\n",
      "\n",
      "\t4: Conversation on 2024-10-01 from 11:05 to 11:14 at Virtual\n",
      "\n",
      "\t-----------------------------------\n",
      "\n",
      "\t\n"
     ]
    }
   ],
   "source": [
    "ll.delete(0)\n",
    "arr.delete(1)\n",
    "\n",
    "print(\"Linked List Contents After Deletion of Event 0\\n\")\n",
    "ll.list_all()\n",
    "\n",
    "print(\"\\n\\n\\nArray-based List Contents After Deletion of Event 1\\n\")\n",
    "arr.list_all()"
   ]
  },
  {
   "cell_type": "markdown",
   "id": "eea363db",
   "metadata": {},
   "source": [
    "Let's add back both events. We can search through each list by calling the `.search_by_id()` method. This function requires both an id and a method argument. Id corresponds to the specific item that we want to find. Method corresponds to the search algorithm we want to use. This can be either 'linear' or 'binary'. \n",
    "\n",
    "Note: Prior to executing binary search, both lists are sorted. "
   ]
  },
  {
   "cell_type": "code",
   "execution_count": 5,
   "id": "e8da54ce",
   "metadata": {},
   "outputs": [
    {
     "name": "stdout",
     "output_type": "stream",
     "text": [
      "Linked List Contents After Re-inserting Event 0\n",
      "\n",
      "\n",
      "        Events shown below:\n",
      "        \n",
      "        -----------------------------------\n",
      "        \n",
      "        1: Meeting on 2023-10-01 from 10:00 to 11:00 at Conference Room\n",
      "\n",
      "\t-----------------------------------\n",
      "\n",
      "\t2: Class on 2025-10-01 from 11:15 to 12:00 at KOBL 231\n",
      "\n",
      "\t-----------------------------------\n",
      "\n",
      "\t4: Conversation on 2024-10-01 from 11:05 to 11:14 at Virtual\n",
      "\n",
      "\t-----------------------------------\n",
      "\n",
      "\t\n",
      "\n",
      "\n",
      "\n",
      "Array-based List Contents After Re-inserting Event 1\n",
      "\n",
      "\n",
      "        Events shown below:\n",
      "        \n",
      "        -----------------------------------\n",
      "        \n",
      "        1: Meeting on 2023-10-01 from 10:00 to 11:00 at Conference Room\n",
      "\n",
      "\t-----------------------------------\n",
      "\n",
      "\t2: Class on 2025-10-01 from 11:15 to 12:00 at KOBL 231\n",
      "\n",
      "\t-----------------------------------\n",
      "\n",
      "\t4: Conversation on 2024-10-01 from 11:05 to 11:14 at Virtual\n",
      "\n",
      "\t-----------------------------------\n",
      "\n",
      "\t\n"
     ]
    }
   ],
   "source": [
    "ll.insert(test_event, 0)\n",
    "arr.insert(next_event, 1)\n",
    "print(\"Linked List Contents After Re-inserting Event 0\\n\")\n",
    "ll.list_all()\n",
    "print(\"\\n\\n\\nArray-based List Contents After Re-inserting Event 1\\n\")\n",
    "arr.list_all()"
   ]
  },
  {
   "cell_type": "code",
   "execution_count": 6,
   "id": "8eef6926",
   "metadata": {},
   "outputs": [
    {
     "name": "stdout",
     "output_type": "stream",
     "text": [
      "Event 2 found in 2 attempts (0.0000 seconds)\n",
      "\n",
      "\n",
      "Linked List Linear Search Result for Event 2: 2: Class on 2025-10-01 from 11:15 to 12:00 at KOBL 231\n",
      "\n"
     ]
    }
   ],
   "source": [
    "lin_item = ll.search_by_id(2, 'linear')\n",
    "print(f\"\\n\\nLinked List Linear Search Result for Event 2: {lin_item}\\n\")"
   ]
  },
  {
   "cell_type": "code",
   "execution_count": 7,
   "id": "8dc81ef4",
   "metadata": {},
   "outputs": [
    {
     "name": "stdout",
     "output_type": "stream",
     "text": [
      "Event 2 found in 1 attempts (2.1457672119140625e-06 seconds) \n",
      "\n",
      "\n",
      "Array-based List Binary Search Result for Event 2: 2: Class on 2025-10-01 from 11:15 to 12:00 at KOBL 231\n",
      "\n"
     ]
    }
   ],
   "source": [
    "bin_item = arr.search_by_id(2, 'binary')\n",
    "print(f\"\\n\\nArray-based List Binary Search Result for Event 2: {bin_item}\\n\")"
   ]
  },
  {
   "cell_type": "markdown",
   "id": "ff42d96a",
   "metadata": {},
   "source": [
    "If a user accidentally provides an invalid search method. The function returns with an error and instructs the user on what the valid args are."
   ]
  },
  {
   "cell_type": "code",
   "execution_count": 8,
   "id": "f5e17e5b",
   "metadata": {},
   "outputs": [
    {
     "name": "stdout",
     "output_type": "stream",
     "text": [
      "ERROR: Invalid search method\n",
      "Acceptable values: [linear, binary]\n",
      "\n",
      "\n",
      "Array-based List Random Search Result for Event 2: None\n",
      "\n"
     ]
    }
   ],
   "source": [
    "invalid_search_item = arr.search_by_id(2, 'random')\n",
    "print(f\"\\n\\nArray-based List Random Search Result for Event 2: {invalid_search_item}\\n\")"
   ]
  },
  {
   "cell_type": "markdown",
   "id": "719f4dad",
   "metadata": {},
   "source": [
    "If the user searches for an item that doesn't exist. The function returns an error indicating that the event was not found. "
   ]
  },
  {
   "cell_type": "code",
   "execution_count": 9,
   "id": "c8da6da0",
   "metadata": {},
   "outputs": [
    {
     "name": "stdout",
     "output_type": "stream",
     "text": [
      "ERROR: Event not found\n",
      "\n",
      "\n",
      "Array-based List Binary Search Result for Fake Event 13: None\n",
      "\n"
     ]
    }
   ],
   "source": [
    "fake_item = arr.search_by_id(13, 'binary')\n",
    "print(f\"\\n\\nArray-based List Binary Search Result for Fake Event 13: {fake_item}\\n\")"
   ]
  },
  {
   "cell_type": "markdown",
   "id": "9a404238",
   "metadata": {
    "id": "9a404238"
   },
   "source": [
    "## Part B"
   ]
  },
  {
   "cell_type": "code",
   "execution_count": null,
   "id": "9fd84ee2",
   "metadata": {
    "id": "9fd84ee2"
   },
   "outputs": [],
   "source": [
    "tests = [50, 500, 5000, 50000]\n",
    "methods = [\"merge\", \"quick\", \"insertion\"]\n",
    "arr_results = {m: [] for m in methods}\n",
    "ll_results = {m: [] for m in methods}"
   ]
  },
  {
   "cell_type": "markdown",
   "id": "27163e48",
   "metadata": {},
   "source": [
    "The code below runs each sorting algorithm for each type of list (ArrayList and LinkedList). The values are recorded in a dictionary."
   ]
  },
  {
   "cell_type": "code",
   "execution_count": 18,
   "id": "3768ff58",
   "metadata": {},
   "outputs": [],
   "source": [
    "\n",
    "for test in tests:\n",
    "    arrs = create_event_dataset(test, \"array\")\n",
    "    lls = create_event_dataset(test, \"ll\")\n",
    "    for method in methods:\n",
    "        start = time.time()\n",
    "        arrs.sort_list(by=\"id\", method=method)\n",
    "        end = time.time()\n",
    "        arr_results[method].append(end - start)\n",
    "        \n",
    "        start = time.time()\n",
    "        lls.sort_list(by=\"id\", method=method)\n",
    "        end = time.time()\n",
    "        ll_results[method].append(end - start)\n",
    "        "
   ]
  },
  {
   "cell_type": "markdown",
   "id": "9eea2d08",
   "metadata": {},
   "source": [
    "Below is a plot visualizing the sorting performance on the array list. It can be seen that the insertion sort performed significantly worse than the other sorting algorithms. Note that the yaxis is on a log scale. \n",
    "\n",
    "Another consideration is that our insertion sort implementation modified the list in place, whereas the others returned a new instance of an ArrayList that was sorted. "
   ]
  },
  {
   "cell_type": "code",
   "execution_count": 26,
   "id": "3a080381",
   "metadata": {},
   "outputs": [
    {
     "data": {
      "image/png": "[encoded data removed]",
      "text/plain": [
       "<Figure size 1000x600 with 1 Axes>"
      ]
     },
     "metadata": {},
     "output_type": "display_data"
    }
   ],
   "source": [
    "plt.figure(figsize=(10, 6))\n",
    "\n",
    "for method, times in arr_results.items():\n",
    "    plt.plot(tests, times, marker='o', label=f'ArrayList - {method.capitalize()} Sort')\n",
    "\n",
    "plt.xlabel(\"Number of events\")\n",
    "plt.ylabel(\"Time (seconds)\")\n",
    "plt.title(\"ArrayList Sorting Performance\")\n",
    "plt.legend()\n",
    "plt.yscale('log')"
   ]
  },
  {
   "cell_type": "markdown",
   "id": "1a9b9641",
   "metadata": {},
   "source": [
    "The plot below shows the results of the experiment for the Linked List. Each algorithm performed similarly, with quick sort slightly performing the worst and Insertion sort performing the best. "
   ]
  },
  {
   "cell_type": "code",
   "execution_count": 30,
   "id": "f25b308a",
   "metadata": {},
   "outputs": [
    {
     "data": {
      "image/png": "[encoded data removed]",
      "text/plain": [
       "<Figure size 1000x600 with 1 Axes>"
      ]
     },
     "metadata": {},
     "output_type": "display_data"
    }
   ],
   "source": [
    "plt.figure(figsize=(10, 6))\n",
    "\n",
    "for method, times in ll_results.items():\n",
    "    plt.plot(tests, times, marker='o', label=f'LinkedList - {method.capitalize()} Sort')\n",
    "\n",
    "plt.xlabel(\"Number of events\")\n",
    "plt.ylabel(\"Time (seconds)\")\n",
    "plt.title(\"LinkedList Sorting Performance\")\n",
    "plt.legend()\n",
    "plt.yscale('log')"
   ]
  },
  {
   "cell_type": "markdown",
   "id": "173c653f",
   "metadata": {},
   "source": [
    "The code below displays a table with sorting times for each algorithm and class. Note that sorting the array list was generally more efficient than sorting the linked list. This may be due to the additional memory overhead associated with the linked list. "
   ]
  },
  {
   "cell_type": "code",
   "execution_count": 33,
   "id": "897dcb31",
   "metadata": {},
   "outputs": [
    {
     "data": {
      "text/html": [
       "<div>\n",
       "<style scoped>\n",
       "    .dataframe tbody tr th:only-of-type {\n",
       "        vertical-align: middle;\n",
       "    }\n",
       "\n",
       "    .dataframe tbody tr th {\n",
       "        vertical-align: top;\n",
       "    }\n",
       "\n",
       "    .dataframe thead th {\n",
       "        text-align: right;\n",
       "    }\n",
       "</style>\n",
       "<table border=\"1\" class=\"dataframe\">\n",
       "  <thead>\n",
       "    <tr style=\"text-align: right;\">\n",
       "      <th></th>\n",
       "      <th>ArrayList_Merge</th>\n",
       "      <th>ArrayList_Quick</th>\n",
       "      <th>ArrayList_Insertion</th>\n",
       "      <th>LinkedList_Merge</th>\n",
       "      <th>LinkedList_Quick</th>\n",
       "      <th>LinkedList_Insertion</th>\n",
       "    </tr>\n",
       "  </thead>\n",
       "  <tbody>\n",
       "    <tr>\n",
       "      <th>50</th>\n",
       "      <td>0.000065</td>\n",
       "      <td>0.000071</td>\n",
       "      <td>0.000079</td>\n",
       "      <td>0.000548</td>\n",
       "      <td>0.000435</td>\n",
       "      <td>0.000071</td>\n",
       "    </tr>\n",
       "    <tr>\n",
       "      <th>500</th>\n",
       "      <td>0.000681</td>\n",
       "      <td>0.000890</td>\n",
       "      <td>0.006430</td>\n",
       "      <td>0.017107</td>\n",
       "      <td>0.025037</td>\n",
       "      <td>0.003915</td>\n",
       "    </tr>\n",
       "    <tr>\n",
       "      <th>5000</th>\n",
       "      <td>0.008327</td>\n",
       "      <td>0.012422</td>\n",
       "      <td>0.779949</td>\n",
       "      <td>1.355914</td>\n",
       "      <td>1.982653</td>\n",
       "      <td>0.452509</td>\n",
       "    </tr>\n",
       "    <tr>\n",
       "      <th>50000</th>\n",
       "      <td>0.098605</td>\n",
       "      <td>0.158404</td>\n",
       "      <td>76.719362</td>\n",
       "      <td>127.378363</td>\n",
       "      <td>343.551531</td>\n",
       "      <td>46.399254</td>\n",
       "    </tr>\n",
       "  </tbody>\n",
       "</table>\n",
       "</div>"
      ],
      "text/plain": [
       "       ArrayList_Merge  ArrayList_Quick  ArrayList_Insertion  \\\n",
       "50            0.000065         0.000071             0.000079   \n",
       "500           0.000681         0.000890             0.006430   \n",
       "5000          0.008327         0.012422             0.779949   \n",
       "50000         0.098605         0.158404            76.719362   \n",
       "\n",
       "       LinkedList_Merge  LinkedList_Quick  LinkedList_Insertion  \n",
       "50             0.000548          0.000435              0.000071  \n",
       "500            0.017107          0.025037              0.003915  \n",
       "5000           1.355914          1.982653              0.452509  \n",
       "50000        127.378363        343.551531             46.399254  "
      ]
     },
     "execution_count": 33,
     "metadata": {},
     "output_type": "execute_result"
    }
   ],
   "source": [
    "results_df = pd.DataFrame({\n",
    "    \"ArrayList_Merge\": arr_results[\"merge\"],\n",
    "    \"ArrayList_Quick\": arr_results[\"quick\"],\n",
    "    \"ArrayList_Insertion\": arr_results[\"insertion\"],\n",
    "    \"LinkedList_Merge\": ll_results[\"merge\"],\n",
    "    \"LinkedList_Quick\": ll_results[\"quick\"],\n",
    "    \"LinkedList_Insertion\": ll_results[\"insertion\"],\n",
    "}, index=tests)\n",
    "results_df"
   ]
  },
  {
   "cell_type": "markdown",
   "id": "b10709f3",
   "metadata": {
    "id": "b10709f3"
   },
   "source": [
    "## Part C"
   ]
  },
  {
   "cell_type": "markdown",
   "id": "3c581346-52c4-45ad-9476-a6e529152b88",
   "metadata": {},
   "source": [
    "### Search by ID"
   ]
  },
  {
   "cell_type": "markdown",
   "id": "7a503929-2bef-43fd-accf-b55c64f1c4d5",
   "metadata": {},
   "source": [
    "#### Linear Search"
   ]
  },
  {
   "cell_type": "code",
   "execution_count": 10,
   "id": "3c962d2f",
   "metadata": {
    "id": "3c962d2f"
   },
   "outputs": [],
   "source": [
    "# Sample dataset of events\n",
    "n=10000\n",
    "events_a = create_event_dataset(n, \"array\")\n",
    "events_l = create_event_dataset(n, \"ll\")\n",
    "\n",
    "random.seed(93)\n",
    "id_to_search = random.randint(1,n)"
   ]
  },
  {
   "cell_type": "markdown",
   "id": "05a4f9e5-392b-45ae-8c0c-5cd49de955a6",
   "metadata": {},
   "source": [
    "##### Array-based List"
   ]
  },
  {
   "cell_type": "code",
   "execution_count": 11,
   "id": "f4deb61d-343d-410c-ae6b-1ae21e401a53",
   "metadata": {},
   "outputs": [
    {
     "name": "stdout",
     "output_type": "stream",
     "text": [
      "Event 8100 found in 7142 attempts (0.0006220340728759766 seconds)\n"
     ]
    }
   ],
   "source": [
    "# Searching unsorted data\n",
    "test_search = events_a.search_by_id(id_to_search, \"linear\")"
   ]
  },
  {
   "cell_type": "code",
   "execution_count": 12,
   "id": "9950245d-626e-416d-9fc2-4a4facb8ef07",
   "metadata": {},
   "outputs": [
    {
     "name": "stdout",
     "output_type": "stream",
     "text": [
      "Event 8100 found in 8100 attempts (0.00028896331787109375 seconds)\n"
     ]
    }
   ],
   "source": [
    "# Searching sorted data\n",
    "sorted_events_a = events_a.sort_list(by=\"id\", method=\"merge\")\n",
    "test_search = sorted_events_a.search_by_id(id_to_search, \"linear\")"
   ]
  },
  {
   "cell_type": "markdown",
   "id": "5af02477-7c4a-46a2-89cf-dfdf695e6274",
   "metadata": {},
   "source": [
    "In certain cases where the `id_to_search` is indexed lower in an unsorted array list than in a sorted array list, searching the unsorted data is more efficient. This is not to be expected in all cases and it is probably wiser in the long run to sort before searching."
   ]
  },
  {
   "cell_type": "markdown",
   "id": "b824cc7c-d2aa-47bf-bfa1-63759b146ec5",
   "metadata": {},
   "source": [
    "##### Singly-linked List"
   ]
  },
  {
   "cell_type": "code",
   "execution_count": 13,
   "id": "835db8bf-3bfa-4ee4-8f0f-909f8db91e9f",
   "metadata": {},
   "outputs": [
    {
     "name": "stdout",
     "output_type": "stream",
     "text": [
      "Event 8100 found in 1061 attempts (0.0002 seconds)\n"
     ]
    }
   ],
   "source": [
    "# Searching unsorted data\n",
    "test_search = events_l.search_by_id(id_to_search, \"linear\")"
   ]
  },
  {
   "cell_type": "code",
   "execution_count": 14,
   "id": "6ed82fa1-9ef2-4d78-ba01-642f168b8fd7",
   "metadata": {},
   "outputs": [
    {
     "name": "stdout",
     "output_type": "stream",
     "text": [
      "Event 8100 found in 8100 attempts (0.0004 seconds)\n"
     ]
    }
   ],
   "source": [
    "# Searching sorted data\n",
    "sorted_events_l = events_l.sort_list(by=\"id\", method=\"merge\")\n",
    "test_search = sorted_events_l.search_by_id(id_to_search, \"linear\")"
   ]
  },
  {
   "cell_type": "markdown",
   "id": "019fb3d3-95b5-4d2b-b5db-75cc35923187",
   "metadata": {},
   "source": [
    "Despite the sorted approach taking more attempts, this method of searching sorted data ultimately took less time than searching the unsorted data in fewer attempts."
   ]
  },
  {
   "cell_type": "markdown",
   "id": "5a371981-3aab-4085-8b20-f541f7471ea1",
   "metadata": {},
   "source": [
    "#### Binary Search"
   ]
  },
  {
   "cell_type": "markdown",
   "id": "d9183ec9-64a4-4bc5-9532-7df0748c9b30",
   "metadata": {},
   "source": [
    "##### Array-based List"
   ]
  },
  {
   "cell_type": "markdown",
   "id": "3bfe45b5-6d62-41ec-b01b-ddfaa32037d1",
   "metadata": {},
   "source": [
    "Binary Search only works on sorted datasets so we will only explore this search method on sorted data"
   ]
  },
  {
   "cell_type": "code",
   "execution_count": 15,
   "id": "5e574b27-7433-423f-82db-7e3b5f409dae",
   "metadata": {},
   "outputs": [
    {
     "name": "stdout",
     "output_type": "stream",
     "text": [
      "Event 8100 found in 11 attempts (2.86102294921875e-06 seconds) \n"
     ]
    }
   ],
   "source": [
    "# Searching sorted data\n",
    "sorted_events_a = events_a.sort_list(by=\"id\", method=\"merge\")\n",
    "test_search = sorted_events_a.search_by_id(id_to_search, \"binary\")"
   ]
  },
  {
   "cell_type": "markdown",
   "id": "936c045c-bbf7-4090-84b7-19889e30b803",
   "metadata": {},
   "source": [
    "##### Singly-linked List"
   ]
  },
  {
   "cell_type": "markdown",
   "id": "e9113bc1-1ed3-4d53-89bc-015045a6df18",
   "metadata": {},
   "source": [
    "Binary Search only works on sorted datasets so we will only explore this search method on sorted data"
   ]
  },
  {
   "cell_type": "code",
   "execution_count": 16,
   "id": "92ddf6f3-9129-434d-a8ca-ebbd75f59b25",
   "metadata": {},
   "outputs": [
    {
     "name": "stdout",
     "output_type": "stream",
     "text": [
      "Event 8100 found in 11 attempts (0.0035 seconds)\n",
      "8100: Event KYN on 2027-09-03 from 11:30 to 14:00 at New Orleans\n"
     ]
    }
   ],
   "source": [
    "# Searching sorted data\n",
    "sorted_events_l = events_l.sort_list(by=\"id\", method=\"merge\")\n",
    "test_search = sorted_events_l.search_by_id(id_to_search, \"binary\")"
   ]
  },
  {
   "cell_type": "markdown",
   "id": "16ccbe44-d77b-4855-8bf0-01eb2ac4aefc",
   "metadata": {},
   "source": [
    "The binary search algorithm for a singly-linked list is less efficient than for an array-based list. This is due to needing to traverse the list with `.next` to get to new indices, rather than accessing directly like with an array-based list."
   ]
  },
  {
   "cell_type": "markdown",
   "id": "34cb1430-df63-4ac7-8096-a303f68972aa",
   "metadata": {},
   "source": [
    "### Conflict Detection"
   ]
  },
  {
   "cell_type": "markdown",
   "id": "c72f1b8e-9564-4669-b501-ad679a0c2c2a",
   "metadata": {},
   "source": [
    "#### Array-based List"
   ]
  },
  {
   "cell_type": "markdown",
   "id": "ce65fe2c-2bf8-4ea1-9c14-b2667e095fe6",
   "metadata": {},
   "source": [
    "##### Complexity\n",
    "The algorithm for conflict detection on array-based lists begins by merge sorting events by date; this method has time complexity of $O(n log(n))$\n",
    "\n",
    "The nested loop over events has time complexity $O(n^2)$ in the worst case. However, since the loop breaks when dates do not match, actual complexity will be lower. In the best case where all events are on a different date, complexity would be $O(n)$. In the average case, complexity will be close to $O(n\\cdot k)$ where $k$ is the average number of events per day. Since `create_event_dataset` spreads events over 4 years, $k = \\frac{n}{4 \\cdot 365} = \\frac{n}{1460}$ events/day.\n",
    "\n",
    "Therefore, `detect_conflicts()` has overall complexity (average case) of $O(n\\cdot log(n) + n\\cdot \\frac{n}{1460})$\n",
    "\n",
    "In the worst case, complexity is $O(n\\cdot log(n) + n^2) \\Rightarrow O(n^2)$\n",
    "\n",
    "##### Optimizations\n",
    "We optimized this method by sorting events by date before checking for conflicts. This reduces the number of checks required by quickly eliminating events on different dates."
   ]
  },
  {
   "cell_type": "code",
   "execution_count": 17,
   "id": "e458d38e-e267-4626-8ac9-a42be4727ba1",
   "metadata": {},
   "outputs": [
    {
     "name": "stdout",
     "output_type": "stream",
     "text": [
      "4 conflicts identified in 2.4080276489257812e-05 seconds\n",
      "- Meeting A conflicts with Meeting B on 2025-10-14\n",
      "- Meeting B conflicts with Meeting C on 2025-10-14\n",
      "- Meeting B conflicts with Meeting D on 2025-10-14\n",
      "- Meeting C conflicts with Meeting D on 2025-10-14\n"
     ]
    }
   ],
   "source": [
    "arr = ArrayList()\n",
    "# Add conflicting events\n",
    "arr.insert(Event(11, \"Meeting A\", \"2025-10-14\", \"09:00\", \"10:00\", \"Room 1\")) # conflicts with 2\n",
    "arr.insert(Event(12, \"Meeting B\", \"2025-10-14\", \"09:30\", \"10:30\", \"Room 2\")) # conflicts with 1,3,4\n",
    "arr.insert(Event(13, \"Meeting C\", \"2025-10-14\", \"10:15\", \"11:00\", \"Room 3\")) # conflicts with 2,4\n",
    "arr.insert(Event(14, \"Meeting D\", \"2025-10-14\", \"10:00\", \"10:30\", \"Room 4\")) # conflicts with 2,3,4\n",
    "arr.insert(Event(15, \"Meeting E\", \"2025-10-15\", \"09:00\", \"10:00\", \"Room 5\")) # no conflict (different day)\n",
    "\n",
    "# Test for conflicts\n",
    "conflicts = arr.detect_conflicts()\n",
    "if conflicts:\n",
    "    for e1, e2 in conflicts:\n",
    "        print(f\"- {e1.title} conflicts with {e2.title} on {e1.date}\")\n",
    "else:\n",
    "    print(\"No conflicts detected\")"
   ]
  },
  {
   "cell_type": "code",
   "execution_count": 18,
   "id": "d45dc8d6-7b2e-4fa8-9c1b-a78760fae533",
   "metadata": {},
   "outputs": [
    {
     "name": "stdout",
     "output_type": "stream",
     "text": [
      "5806 conflicts identified in 0.0568079948425293 seconds\n"
     ]
    }
   ],
   "source": [
    "# Test on 10,000 events\n",
    "events = create_event_dataset(10000, \"array\")\n",
    "# Test for conflicts\n",
    "conflicts = events.detect_conflicts()"
   ]
  },
  {
   "cell_type": "markdown",
   "id": "1df33519-296b-4749-829a-f58d30ecdd64",
   "metadata": {},
   "source": [
    "#### Singly-linked List"
   ]
  },
  {
   "cell_type": "markdown",
   "id": "dbc5d7aa-166b-41b5-a61b-d0ba5f47ff45",
   "metadata": {},
   "source": [
    "##### Complexity\n",
    "\n",
    "Before optimization, time complexity was $O(n^2)$\n",
    "\n",
    "After optimization, time complexity is $O(n + m^2)$ where $m$ is events per date. In the case of 10,000 events spread over 4 years (this is what `create_event_dataset` produces), we should only average $m \\approx 7$ events per day. This adds negligible complexity for n=10,000.\n",
    "\n",
    "##### Optimizations\n",
    "\n",
    "I needed to optimize the base conflict-detection algorithm for Array-based lists to run efficiently on Singly-linked lists with up to 10,000 nodes. Prior to optimization,  `_detect_conflicts()` took approximately 30 seconds to run on 10,000 events. After optimization, runtime is down to fractions of a second. This was achieved by initially grouping events by date. This reduces the number of comparisons required: instead of comparing every event against every other, we only compare events on the same day."
   ]
  },
  {
   "cell_type": "code",
   "execution_count": 19,
   "id": "bae0c630-8171-404f-8a0a-b30c326b844d",
   "metadata": {},
   "outputs": [
    {
     "name": "stdout",
     "output_type": "stream",
     "text": [
      "4 conflicts detected in 1.71661376953125e-05 seconds\n",
      "- Meeting A conflicts with Meeting B on 2025-10-14\n",
      "- Meeting B conflicts with Meeting C on 2025-10-14\n",
      "- Meeting B conflicts with Meeting D on 2025-10-14\n",
      "- Meeting C conflicts with Meeting D on 2025-10-14\n"
     ]
    }
   ],
   "source": [
    "ll = LinkedList()\n",
    "# Add conflicting events\n",
    "ll.insert(Event(11, \"Meeting A\", \"2025-10-14\", \"09:00\", \"10:00\", \"Room 1\")) # conflicts with 12\n",
    "ll.insert(Event(15, \"Meeting E\", \"2025-10-15\", \"09:00\", \"10:00\", \"Room 5\")) # no conflict (different day)\n",
    "ll.insert(Event(12, \"Meeting B\", \"2025-10-14\", \"09:30\", \"10:30\", \"Room 2\")) # conflicts with 11,13,14\n",
    "ll.insert(Event(13, \"Meeting C\", \"2025-10-14\", \"10:15\", \"11:00\", \"Room 3\")) # conflicts with 12,14\n",
    "ll.insert(Event(14, \"Meeting D\", \"2025-10-14\", \"10:00\", \"10:30\", \"Room 4\")) # conflicts with 12,13,14\n",
    "\n",
    "# Test for conflicts\n",
    "conflicts = ll._detect_conflicts()\n",
    "if conflicts:\n",
    "    for e1, e2 in conflicts:\n",
    "        print(f\"- {e1.title} conflicts with {e2.title} on {e1.date}\")\n",
    "else:\n",
    "    print(\"No conflicts detected\")"
   ]
  },
  {
   "cell_type": "code",
   "execution_count": 20,
   "id": "17cc20bc-2c56-4304-abd6-63f37172ff58",
   "metadata": {},
   "outputs": [
    {
     "name": "stdout",
     "output_type": "stream",
     "text": [
      "5810 conflicts detected in 0.029371976852416992 seconds\n"
     ]
    }
   ],
   "source": [
    "# Test on 10,000 events\n",
    "events = create_event_dataset(10000, \"ll\")\n",
    "# Test for conflicts\n",
    "conflicts = events._detect_conflicts()"
   ]
  },
  {
   "cell_type": "markdown",
   "id": "026203c6-42a6-4239-87c7-2e4e2665a73a",
   "metadata": {},
   "source": [
    "#### Tests"
   ]
  },
  {
   "cell_type": "code",
   "execution_count": 21,
   "id": "4e998489-a70e-4a07-a481-b2d5fbc954ec",
   "metadata": {},
   "outputs": [
    {
     "name": "stdout",
     "output_type": "stream",
     "text": [
      "Event 1 found in 13 attempts (0.0004 seconds)\n",
      "1: Event A on 2028-09-10 from 15:00 to 16:00 at Barcelona\n"
     ]
    }
   ],
   "source": [
    "sys.path.append(\"tests/\")\n",
    "from BinarySearch_test import test_pos_binary_search_by_id\n",
    "test_pos_binary_search_by_id()"
   ]
  },
  {
   "cell_type": "code",
   "execution_count": 22,
   "id": "c455754a-d2b7-493f-bcf7-21b62726ae48",
   "metadata": {},
   "outputs": [
    {
     "name": "stdout",
     "output_type": "stream",
     "text": [
      "ERROR: id must be integer\n",
      "ERROR: Event ID not found\n"
     ]
    }
   ],
   "source": [
    "from BinarySearch_test import test_neg_binary_search_by_id\n",
    "test_neg_binary_search_by_id()"
   ]
  },
  {
   "cell_type": "code",
   "execution_count": 23,
   "id": "c30a7fa7-8aa2-4ded-b595-ac44d768f5bc",
   "metadata": {},
   "outputs": [
    {
     "name": "stdout",
     "output_type": "stream",
     "text": [
      "Event 17 found in 2508 attempts (0.0002 seconds)\n"
     ]
    }
   ],
   "source": [
    "from LinearSearch_test import test_pos_linear_search_by_id\n",
    "test_pos_linear_search_by_id()"
   ]
  },
  {
   "cell_type": "code",
   "execution_count": 24,
   "id": "8bba7567-bb1d-479c-b4eb-6a298b77de1d",
   "metadata": {},
   "outputs": [
    {
     "name": "stdout",
     "output_type": "stream",
     "text": [
      "ERROR: Event ID not found\n",
      "ERROR: Event ID not found\n"
     ]
    }
   ],
   "source": [
    "from LinearSearch_test import test_neg_linear_search_by_id\n",
    "test_neg_linear_search_by_id()"
   ]
  },
  {
   "cell_type": "markdown",
   "id": "fda01c02",
   "metadata": {
    "id": "fda01c02"
   },
   "source": [
    "## Part D"
   ]
  },
  {
   "cell_type": "code",
   "execution_count": null,
   "id": "6ffadd01",
   "metadata": {
    "id": "6ffadd01",
    "jupyter": {
     "source_hidden": true
    }
   },
   "outputs": [],
   "source": []
  },
  {
   "cell_type": "markdown",
   "id": "dc596239",
   "metadata": {
    "id": "dc596239"
   },
   "source": [
    "## Part E"
   ]
  },
  {
   "cell_type": "markdown",
   "id": "1b2853d8",
   "metadata": {
    "id": "1b2853d8"
   },
   "source": [
    "Please see README.md"
   ]
  }
 ],
 "metadata": {
  "colab": {
   "provenance": []
  },
  "kernelspec": {
   "display_name": "venv",
   "language": "python",
   "name": "python3"
  },
  "language_info": {
   "codemirror_mode": {
    "name": "ipython",
    "version": 3
   },
   "file_extension": ".py",
   "mimetype": "text/x-python",
   "name": "python",
   "nbconvert_exporter": "python",
   "pygments_lexer": "ipython3",
   "version": "3.12.7"
  }
 },
 "nbformat": 4,
 "nbformat_minor": 5
}
