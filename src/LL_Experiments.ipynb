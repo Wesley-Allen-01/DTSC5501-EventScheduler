{
 "cells": [
  {
   "cell_type": "markdown",
   "id": "8f5f704a",
   "metadata": {},
   "source": [
    "# Linked List Testing"
   ]
  },
  {
   "cell_type": "code",
   "execution_count": 1,
   "id": "8b1040d8",
   "metadata": {},
   "outputs": [],
   "source": [
    "from LinkedList import LinkedList\n",
    "from Event import Event"
   ]
  },
  {
   "cell_type": "code",
   "execution_count": 2,
   "id": "734695bb",
   "metadata": {},
   "outputs": [
    {
     "data": {
      "text/plain": [
       "1: Meeting on 2023-10-01 from 10:00 to 11:00 at Conference Room"
      ]
     },
     "execution_count": 2,
     "metadata": {},
     "output_type": "execute_result"
    }
   ],
   "source": [
    "test_event = Event(1, \"Meeting\", \"2023-10-01\", \"10:00\", \"11:00\", \"Conference Room\")\n",
    "test_event"
   ]
  },
  {
   "cell_type": "markdown",
   "id": "ff0df63d",
   "metadata": {},
   "source": [
    "## List Initialization\n",
    "\n",
    "The init function for the list has an optional argument for the head. In the \n",
    "line below, we are initializing the list, and setting the head to be `test_event`."
   ]
  },
  {
   "cell_type": "code",
   "execution_count": 3,
   "id": "7836909c",
   "metadata": {},
   "outputs": [
    {
     "data": {
      "text/plain": [
       "\n",
       "        Events shown below:\n",
       "        \n",
       "        -----------------------------------\n",
       "        \n",
       "        1: Meeting on 2023-10-01 from 10:00 to 11:00 at Conference Room\n",
       "\n",
       "\t-----------------------------------\n",
       "\n",
       "\t"
      ]
     },
     "execution_count": 3,
     "metadata": {},
     "output_type": "execute_result"
    }
   ],
   "source": [
    "ll = LinkedList(test_event)\n",
    "ll"
   ]
  },
  {
   "cell_type": "markdown",
   "id": "06d0922a",
   "metadata": {},
   "source": [
    "## List Insertion\n",
    "\n",
    "Below, I am testing a few different insertions. The insert function accepts\n",
    "an optional idx argument, which determines where a node should be inserted. If the \n",
    "idx is left out, then the node is appended to the tail of the list.\n",
    "\n",
    "- The 1st insertion appends an item to the tail.\n",
    "\n",
    "- The 2nd insertion inserts a node at index 1.\n",
    "\n",
    "- The 3rd insertion creates a new head node by inserting at index 0.\n",
    "\n",
    "- The 4th insertion appends a node to the tail. "
   ]
  },
  {
   "cell_type": "code",
   "execution_count": 4,
   "id": "287a67bf",
   "metadata": {},
   "outputs": [
    {
     "data": {
      "text/plain": [
       "\n",
       "        Events shown below:\n",
       "        \n",
       "        -----------------------------------\n",
       "        \n",
       "        5: Workout on 2023-10-10 from 7:00 to 8:30 at Rec Center\n",
       "\n",
       "\t-----------------------------------\n",
       "\n",
       "\t1: Meeting on 2023-10-01 from 10:00 to 11:00 at Conference Room\n",
       "\n",
       "\t-----------------------------------\n",
       "\n",
       "\t4: Conversation on 2023-10-01 from 11:05 to 11:14 at Virtual\n",
       "\n",
       "\t-----------------------------------\n",
       "\n",
       "\t2: Class on 2023-10-01 from 11:15 to 12:00 at KOBL 231\n",
       "\n",
       "\t-----------------------------------\n",
       "\n",
       "\t17: Manager Meeting on 2023-10-01 from 15:30 to 16:30 at Home\n",
       "\n",
       "\t-----------------------------------\n",
       "\n",
       "\t"
      ]
     },
     "execution_count": 4,
     "metadata": {},
     "output_type": "execute_result"
    }
   ],
   "source": [
    "next_event = Event(2, \"Class\", \"2023-10-01\", \"11:15\", \"12:00\", \"KOBL 231\")\n",
    "ll.insert(next_event)\n",
    "\n",
    "early_event = Event(4, \"Conversation\", \"2023-10-01\", \"11:05\", \"11:14\", \"Virtual\")\n",
    "ll.insert(early_event, 1)\n",
    "\n",
    "new_head_event = Event(5, \"Workout\", \"2023-10-10\", \"7:00\", \"8:30\", \"Rec Center\")\n",
    "ll.insert(new_head_event, 0)\n",
    "\n",
    "tail_insert_event = Event(17, \"Manager Meeting\", \"2023-10-01\", \"15:30\", \"16:30\", \"Home\")\n",
    "ll.insert(tail_insert_event)\n",
    "\n",
    "ll\n"
   ]
  },
  {
   "cell_type": "markdown",
   "id": "315c0dd0",
   "metadata": {},
   "source": [
    "## Node Deletion"
   ]
  },
  {
   "cell_type": "markdown",
   "id": "9fc28a17",
   "metadata": {},
   "source": [
    "The line below deletes what was the former head node. "
   ]
  },
  {
   "cell_type": "code",
   "execution_count": 5,
   "id": "a54351d6",
   "metadata": {},
   "outputs": [
    {
     "data": {
      "text/plain": [
       "\n",
       "        Events shown below:\n",
       "        \n",
       "        -----------------------------------\n",
       "        \n",
       "        1: Meeting on 2023-10-01 from 10:00 to 11:00 at Conference Room\n",
       "\n",
       "\t-----------------------------------\n",
       "\n",
       "\t4: Conversation on 2023-10-01 from 11:05 to 11:14 at Virtual\n",
       "\n",
       "\t-----------------------------------\n",
       "\n",
       "\t2: Class on 2023-10-01 from 11:15 to 12:00 at KOBL 231\n",
       "\n",
       "\t-----------------------------------\n",
       "\n",
       "\t17: Manager Meeting on 2023-10-01 from 15:30 to 16:30 at Home\n",
       "\n",
       "\t-----------------------------------\n",
       "\n",
       "\t"
      ]
     },
     "execution_count": 5,
     "metadata": {},
     "output_type": "execute_result"
    }
   ],
   "source": [
    "ll.delete(0)\n",
    "ll"
   ]
  },
  {
   "cell_type": "markdown",
   "id": "921b2748",
   "metadata": {},
   "source": [
    "The delete function first checks if an index exists in the list. If the user \n",
    "provides an index outside the range of the list, they get an error "
   ]
  },
  {
   "cell_type": "code",
   "execution_count": 6,
   "id": "8a93cf3a",
   "metadata": {},
   "outputs": [
    {
     "name": "stdout",
     "output_type": "stream",
     "text": [
      "ERROR: This index is invalid\n"
     ]
    }
   ],
   "source": [
    "ll.delete(999)"
   ]
  },
  {
   "cell_type": "markdown",
   "id": "0b073be2",
   "metadata": {},
   "source": [
    "The line below deletes an item at index 2."
   ]
  },
  {
   "cell_type": "code",
   "execution_count": 7,
   "id": "66c10c33",
   "metadata": {},
   "outputs": [
    {
     "data": {
      "text/plain": [
       "\n",
       "        Events shown below:\n",
       "        \n",
       "        -----------------------------------\n",
       "        \n",
       "        1: Meeting on 2023-10-01 from 10:00 to 11:00 at Conference Room\n",
       "\n",
       "\t-----------------------------------\n",
       "\n",
       "\t4: Conversation on 2023-10-01 from 11:05 to 11:14 at Virtual\n",
       "\n",
       "\t-----------------------------------\n",
       "\n",
       "\t17: Manager Meeting on 2023-10-01 from 15:30 to 16:30 at Home\n",
       "\n",
       "\t-----------------------------------\n",
       "\n",
       "\t"
      ]
     },
     "execution_count": 7,
     "metadata": {},
     "output_type": "execute_result"
    }
   ],
   "source": [
    "ll.delete(2)\n",
    "ll"
   ]
  },
  {
   "cell_type": "markdown",
   "id": "52773345",
   "metadata": {},
   "source": [
    "## Listing elements"
   ]
  },
  {
   "cell_type": "markdown",
   "id": "363afe50",
   "metadata": {},
   "source": [
    "The `list_all()` function merely prints the list. I created a `__str__` dunder\n",
    "method for the list for easy printing and display. "
   ]
  },
  {
   "cell_type": "code",
   "execution_count": 8,
   "id": "cd79f4f7",
   "metadata": {},
   "outputs": [
    {
     "name": "stdout",
     "output_type": "stream",
     "text": [
      "\n",
      "        Events shown below:\n",
      "        \n",
      "        -----------------------------------\n",
      "        \n",
      "        1: Meeting on 2023-10-01 from 10:00 to 11:00 at Conference Room\n",
      "\n",
      "\t-----------------------------------\n",
      "\n",
      "\t4: Conversation on 2023-10-01 from 11:05 to 11:14 at Virtual\n",
      "\n",
      "\t-----------------------------------\n",
      "\n",
      "\t17: Manager Meeting on 2023-10-01 from 15:30 to 16:30 at Home\n",
      "\n",
      "\t-----------------------------------\n",
      "\n",
      "\t\n"
     ]
    }
   ],
   "source": [
    "ll.list_all()"
   ]
  },
  {
   "cell_type": "markdown",
   "id": "66a57ac0",
   "metadata": {},
   "source": [
    "## Searching by ID"
   ]
  },
  {
   "cell_type": "markdown",
   "id": "fcad6cfe-4100-4bff-a757-945ddf80b001",
   "metadata": {},
   "source": [
    "### Linear Search"
   ]
  },
  {
   "cell_type": "code",
   "execution_count": 9,
   "id": "cb9b4e83",
   "metadata": {},
   "outputs": [
    {
     "name": "stdout",
     "output_type": "stream",
     "text": [
      "4: Conversation on 2023-10-01 from 11:05 to 11:14 at Virtual\n"
     ]
    }
   ],
   "source": [
    "test_search = ll.search_by_id(4, \"linear\")\n",
    "print(test_search)"
   ]
  },
  {
   "cell_type": "markdown",
   "id": "d1cea20c-aeef-4db8-bd02-116b8bc9b883",
   "metadata": {},
   "source": [
    "### Binary Search"
   ]
  },
  {
   "cell_type": "code",
   "execution_count": 10,
   "id": "7252e079-1d00-4ca4-b01a-691214ec8445",
   "metadata": {},
   "outputs": [
    {
     "name": "stdout",
     "output_type": "stream",
     "text": [
      "4: Conversation on 2023-10-01 from 11:05 to 11:14 at Virtual\n"
     ]
    }
   ],
   "source": [
    "test_search_bin = ll.search_by_id(4, \"binary\")\n",
    "print(test_search_bin)"
   ]
  },
  {
   "cell_type": "markdown",
   "id": "bfc6ee8f-d8e6-4e28-bc54-20e9cc2910c5",
   "metadata": {},
   "source": [
    "## Conflict Detection"
   ]
  },
  {
   "cell_type": "code",
   "execution_count": null,
   "id": "71bd8d90-ac82-4f6f-b353-d8aa23f549a8",
   "metadata": {},
   "outputs": [],
   "source": [
    "# Add conflicting events\n",
    "arr.insert(Event(11, \"Meeting A\", \"2025-10-14\", \"09:00\", \"10:00\", \"Room 1\")) # conflicts with 12\n",
    "arr.insert(Event(15, \"Meeting E\", \"2025-10-15\", \"09:00\", \"10:00\", \"Room 5\")) # no conflict (different day)\n",
    "arr.insert(Event(12, \"Meeting B\", \"2025-10-14\", \"09:30\", \"10:30\", \"Room 2\")) # conflicts with 11,13,14\n",
    "arr.insert(Event(13, \"Meeting C\", \"2025-10-14\", \"10:15\", \"11:00\", \"Room 3\")) # conflicts with 12,14\n",
    "arr.insert(Event(14, \"Meeting D\", \"2025-10-14\", \"10:00\", \"10:30\", \"Room 4\")) # conflicts with 12,13,14\n"
   ]
  }
 ],
 "metadata": {
  "kernelspec": {
   "display_name": "Python 3 (ipykernel)",
   "language": "python",
   "name": "python3"
  },
  "language_info": {
   "codemirror_mode": {
    "name": "ipython",
    "version": 3
   },
   "file_extension": ".py",
   "mimetype": "text/x-python",
   "name": "python",
   "nbconvert_exporter": "python",
   "pygments_lexer": "ipython3",
   "version": "3.13.7"
  }
 },
 "nbformat": 4,
 "nbformat_minor": 5
}
