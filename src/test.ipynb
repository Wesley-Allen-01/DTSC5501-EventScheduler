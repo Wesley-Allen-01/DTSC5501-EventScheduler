{
 "cells": [
  {
   "cell_type": "code",
   "execution_count": 1,
   "id": "8b1040d8",
   "metadata": {},
   "outputs": [],
   "source": [
    "from Event import Event"
   ]
  },
  {
   "cell_type": "code",
   "execution_count": 2,
   "id": "734695bb",
   "metadata": {},
   "outputs": [
    {
     "data": {
      "text/plain": [
       "1: Meeting on 2023-10-01 from 10:00 to 11:00 at Conference Room"
      ]
     },
     "execution_count": 2,
     "metadata": {},
     "output_type": "execute_result"
    }
   ],
   "source": [
    "test_event = Event(1, \"Meeting\", \"2023-10-01\", \"10:00\", \"11:00\", \"Conference Room\")\n",
    "test_event"
   ]
  },
  {
   "cell_type": "code",
   "execution_count": null,
   "id": "7836909c",
   "metadata": {},
   "outputs": [],
   "source": []
  }
 ],
 "metadata": {
  "kernelspec": {
   "display_name": "venv",
   "language": "python",
   "name": "python3"
  },
  "language_info": {
   "codemirror_mode": {
    "name": "ipython",
    "version": 3
   },
   "file_extension": ".py",
   "mimetype": "text/x-python",
   "name": "python",
   "nbconvert_exporter": "python",
   "pygments_lexer": "ipython3",
   "version": "3.12.7"
  }
 },
 "nbformat": 4,
 "nbformat_minor": 5
}
