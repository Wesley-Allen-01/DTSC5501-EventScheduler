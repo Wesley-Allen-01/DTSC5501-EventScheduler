{
 "cells": [
  {
   "cell_type": "markdown",
   "id": "505cd55c",
   "metadata": {},
   "source": [
    "# Array List Testing"
   ]
  },
  {
   "cell_type": "code",
   "execution_count": 2,
   "id": "20d2041b",
   "metadata": {},
   "outputs": [],
   "source": [
    "from ArrayList import ArrayList\n",
    "from Event import Event\n",
    "from GenerateData import generate_data"
   ]
  },
  {
   "cell_type": "code",
   "execution_count": 2,
   "id": "7f29a761",
   "metadata": {},
   "outputs": [
    {
     "data": {
      "text/plain": [
       "1: Meeting on 2023-10-01 from 10:00 to 11:00 at Conference Room"
      ]
     },
     "execution_count": 2,
     "metadata": {},
     "output_type": "execute_result"
    }
   ],
   "source": [
    "test_event = Event(1, \"Meeting\", \"2023-10-01\", \"10:00\", \"11:00\", \"Conference Room\")\n",
    "test_event"
   ]
  },
  {
   "cell_type": "markdown",
   "id": "82e1566b",
   "metadata": {},
   "source": [
    "## List Initialization\n",
    "\n",
    "The init function for the list has an optional argument for the head. In the \n",
    "line below, we are initializing the list, and setting the head to be `test_event`."
   ]
  },
  {
   "cell_type": "code",
   "execution_count": 3,
   "id": "c76bb29b",
   "metadata": {},
   "outputs": [
    {
     "data": {
      "text/plain": [
       "\n",
       "        Events shown below:\n",
       "        \n",
       "        -----------------------------------\n",
       "        \n",
       "        1: Meeting on 2023-10-01 from 10:00 to 11:00 at Conference Room\n",
       "\n",
       "\t-----------------------------------\n",
       "\n",
       "\t"
      ]
     },
     "execution_count": 3,
     "metadata": {},
     "output_type": "execute_result"
    }
   ],
   "source": [
    "arr = ArrayList(test_event)\n",
    "arr"
   ]
  },
  {
   "cell_type": "markdown",
   "id": "853ec8c9",
   "metadata": {},
   "source": [
    "## List Insertion\n",
    "\n",
    "Below, I am testing a few different insertions. The insert function accepts\n",
    "an optional idx argument, which determines where a node should be inserted. If the \n",
    "idx is left out, then the node is appended to the tail of the list.\n",
    "\n",
    "- The 1st insertion appends an item to the tail.\n",
    "\n",
    "- The 2nd insertion inserts a node at index 1.\n",
    "\n",
    "- The 3rd insertion creates a new head node by inserting at index 0.\n",
    "\n",
    "- The 4th insertion appends a node to the tail. "
   ]
  },
  {
   "cell_type": "code",
   "execution_count": 4,
   "id": "b302a73e",
   "metadata": {},
   "outputs": [
    {
     "data": {
      "text/plain": [
       "\n",
       "        Events shown below:\n",
       "        \n",
       "        -----------------------------------\n",
       "        \n",
       "        5: Workout on 2023-10-10 from 7:00 to 8:30 at Rec Center\n",
       "\n",
       "\t-----------------------------------\n",
       "\n",
       "\t1: Meeting on 2023-10-01 from 10:00 to 11:00 at Conference Room\n",
       "\n",
       "\t-----------------------------------\n",
       "\n",
       "\t4: Conversation on 2023-10-01 from 11:05 to 11:14 at Virtual\n",
       "\n",
       "\t-----------------------------------\n",
       "\n",
       "\t2: Class on 2023-10-01 from 11:15 to 12:00 at KOBL 231\n",
       "\n",
       "\t-----------------------------------\n",
       "\n",
       "\t17: Manager Meeting on 2023-10-01 from 15:30 to 16:30 at Home\n",
       "\n",
       "\t-----------------------------------\n",
       "\n",
       "\t"
      ]
     },
     "execution_count": 4,
     "metadata": {},
     "output_type": "execute_result"
    }
   ],
   "source": [
    "next_event = Event(2, \"Class\", \"2023-10-01\", \"11:15\", \"12:00\", \"KOBL 231\")\n",
    "arr.insert(next_event)\n",
    "\n",
    "early_event = Event(4, \"Conversation\", \"2023-10-01\", \"11:05\", \"11:14\", \"Virtual\")\n",
    "arr.insert(early_event, 1)\n",
    "\n",
    "new_head_event = Event(5, \"Workout\", \"2023-10-10\", \"7:00\", \"8:30\", \"Rec Center\")\n",
    "arr.insert(new_head_event, 0)\n",
    "\n",
    "tail_insert_event = Event(17, \"Manager Meeting\", \"2023-10-01\", \"15:30\", \"16:30\", \"Home\")\n",
    "arr.insert(tail_insert_event)\n",
    "\n",
    "arr"
   ]
  },
  {
   "cell_type": "markdown",
   "id": "ae9aeeab",
   "metadata": {},
   "source": [
    "## Item Deletion"
   ]
  },
  {
   "cell_type": "markdown",
   "id": "b99fd0c6",
   "metadata": {},
   "source": [
    "The line below deletes what was the former head node. "
   ]
  },
  {
   "cell_type": "code",
   "execution_count": 5,
   "id": "01f1558c",
   "metadata": {},
   "outputs": [
    {
     "data": {
      "text/plain": [
       "\n",
       "        Events shown below:\n",
       "        \n",
       "        -----------------------------------\n",
       "        \n",
       "        1: Meeting on 2023-10-01 from 10:00 to 11:00 at Conference Room\n",
       "\n",
       "\t-----------------------------------\n",
       "\n",
       "\t4: Conversation on 2023-10-01 from 11:05 to 11:14 at Virtual\n",
       "\n",
       "\t-----------------------------------\n",
       "\n",
       "\t2: Class on 2023-10-01 from 11:15 to 12:00 at KOBL 231\n",
       "\n",
       "\t-----------------------------------\n",
       "\n",
       "\t17: Manager Meeting on 2023-10-01 from 15:30 to 16:30 at Home\n",
       "\n",
       "\t-----------------------------------\n",
       "\n",
       "\t"
      ]
     },
     "execution_count": 5,
     "metadata": {},
     "output_type": "execute_result"
    }
   ],
   "source": [
    "arr.delete(0)\n",
    "arr"
   ]
  },
  {
   "cell_type": "markdown",
   "id": "44630b7f",
   "metadata": {},
   "source": [
    "The delete function first checks if an index exists in the list. If the user \n",
    "provides an index outside the range of the list, they get an error "
   ]
  },
  {
   "cell_type": "code",
   "execution_count": 6,
   "id": "9cda68c6",
   "metadata": {},
   "outputs": [
    {
     "name": "stdout",
     "output_type": "stream",
     "text": [
      "ERROR: Invalid Index\n"
     ]
    }
   ],
   "source": [
    "arr.delete(999)"
   ]
  },
  {
   "cell_type": "markdown",
   "id": "c86b5d80",
   "metadata": {},
   "source": [
    "The line below deletes an item at index 2."
   ]
  },
  {
   "cell_type": "code",
   "execution_count": 7,
   "id": "c07e2e6e",
   "metadata": {},
   "outputs": [
    {
     "data": {
      "text/plain": [
       "\n",
       "        Events shown below:\n",
       "        \n",
       "        -----------------------------------\n",
       "        \n",
       "        1: Meeting on 2023-10-01 from 10:00 to 11:00 at Conference Room\n",
       "\n",
       "\t-----------------------------------\n",
       "\n",
       "\t4: Conversation on 2023-10-01 from 11:05 to 11:14 at Virtual\n",
       "\n",
       "\t-----------------------------------\n",
       "\n",
       "\t17: Manager Meeting on 2023-10-01 from 15:30 to 16:30 at Home\n",
       "\n",
       "\t-----------------------------------\n",
       "\n",
       "\t"
      ]
     },
     "execution_count": 7,
     "metadata": {},
     "output_type": "execute_result"
    }
   ],
   "source": [
    "arr.delete(2)\n",
    "arr"
   ]
  },
  {
   "cell_type": "markdown",
   "id": "a3d62769",
   "metadata": {},
   "source": [
    "## Listing elements"
   ]
  },
  {
   "cell_type": "markdown",
   "id": "ab8c0012",
   "metadata": {},
   "source": [
    "The `list_all()` function merely prints the list. I created a `__str__` dunder\n",
    "method for the list for easy printing and display. "
   ]
  },
  {
   "cell_type": "code",
   "execution_count": 8,
   "id": "4d0fa6d3",
   "metadata": {},
   "outputs": [
    {
     "name": "stdout",
     "output_type": "stream",
     "text": [
      "\n",
      "        Events shown below:\n",
      "        \n",
      "        -----------------------------------\n",
      "        \n",
      "        1: Meeting on 2023-10-01 from 10:00 to 11:00 at Conference Room\n",
      "\n",
      "\t-----------------------------------\n",
      "\n",
      "\t4: Conversation on 2023-10-01 from 11:05 to 11:14 at Virtual\n",
      "\n",
      "\t-----------------------------------\n",
      "\n",
      "\t17: Manager Meeting on 2023-10-01 from 15:30 to 16:30 at Home\n",
      "\n",
      "\t-----------------------------------\n",
      "\n",
      "\t\n"
     ]
    }
   ],
   "source": [
    "arr.list_all()"
   ]
  },
  {
   "cell_type": "markdown",
   "id": "6bb6cc78",
   "metadata": {},
   "source": [
    "## Searching by ID"
   ]
  },
  {
   "cell_type": "markdown",
   "id": "a5f3421b-9db9-4581-b6f6-ffd4576d2d24",
   "metadata": {},
   "source": [
    "### Linear Search"
   ]
  },
  {
   "cell_type": "code",
   "execution_count": 9,
   "id": "2d887928",
   "metadata": {},
   "outputs": [
    {
     "name": "stdout",
     "output_type": "stream",
     "text": [
      "4: Conversation on 2023-10-01 from 11:05 to 11:14 at Virtual\n"
     ]
    }
   ],
   "source": [
    "test_search = arr.search_by_id(4, \"linear\")\n",
    "print(test_search)"
   ]
  },
  {
   "cell_type": "markdown",
   "id": "a004054c-6140-4ecf-8e9a-c862c27b2d04",
   "metadata": {},
   "source": [
    "### Binary Search"
   ]
  },
  {
   "cell_type": "code",
   "execution_count": 10,
   "id": "df15f07e-873d-4675-b64d-163008f054f4",
   "metadata": {},
   "outputs": [
    {
     "name": "stdout",
     "output_type": "stream",
     "text": [
      "4: Conversation on 2023-10-01 from 11:05 to 11:14 at Virtual\n"
     ]
    }
   ],
   "source": [
    "test_search_bin = arr.search_by_id(4, \"binary\")\n",
    "print(test_search_bin)"
   ]
  },
  {
   "cell_type": "markdown",
   "id": "a87e29f8-f21e-40e9-bd7c-fe655df1b7bf",
   "metadata": {},
   "source": [
    "## Conflict Detection"
   ]
  },
  {
   "cell_type": "code",
   "execution_count": 11,
   "id": "e8f53976-3ffc-493c-a109-0c81b4bce2a1",
   "metadata": {},
   "outputs": [
    {
     "name": "stdout",
     "output_type": "stream",
     "text": [
      "- Meeting A conflicts with Meeting B on 2025-10-14\n",
      "- Meeting B conflicts with Meeting D on 2025-10-14\n",
      "- Meeting B conflicts with Meeting C on 2025-10-14\n",
      "- Meeting D conflicts with Meeting C on 2025-10-14\n"
     ]
    }
   ],
   "source": [
    "# Add conflicting events\n",
    "arr.insert(Event(11, \"Meeting A\", \"2025-10-14\", \"09:00\", \"10:00\", \"Room 1\")) # conflicts with 2\n",
    "arr.insert(Event(12, \"Meeting B\", \"2025-10-14\", \"09:30\", \"10:30\", \"Room 2\")) # conflicts with 1,3,4\n",
    "arr.insert(Event(13, \"Meeting C\", \"2025-10-14\", \"10:15\", \"11:00\", \"Room 3\")) # conflicts with 2,4\n",
    "arr.insert(Event(14, \"Meeting D\", \"2025-10-14\", \"10:00\", \"10:30\", \"Room 4\")) # conflicts with 2,3,4\n",
    "arr.insert(Event(15, \"Meeting E\", \"2025-10-15\", \"09:00\", \"10:00\", \"Room 5\")) # no conflict (different day)\n",
    "\n",
    "# Test for conflicts\n",
    "conflicts = arr.detect_conflicts()\n",
    "if conflicts:\n",
    "    for e1, e2 in conflicts:\n",
    "        print(f\"- {e1.title} conflicts with {e2.title} on {e1.date}\")\n",
    "else:\n",
    "    print(\"No conflicts detected\")"
   ]
  },
  {
   "cell_type": "markdown",
   "id": "80e48022-0c48-413e-8bf6-3e3c96f43c8b",
   "metadata": {},
   "source": [
    "## Sample Data"
   ]
  },
  {
   "cell_type": "code",
   "execution_count": 4,
   "id": "47929655-38a9-4321-ac1d-5900356143ac",
   "metadata": {},
   "outputs": [
    {
     "data": {
      "text/plain": [
       "[1: Event A on 2026-06-09 from 11:30 to 12:00 at Singapore,\n",
       " 2: Event B on 2026-03-21 from 12:00 to 13:00 at Seoul,\n",
       " 3: Event C on 2026-08-29 from 12:30 to 13:00 at Berlin,\n",
       " 4: Event D on 2027-04-12 from 12:15 to 12:45 at Mumbai,\n",
       " 5: Event E on 2025-08-24 from 13:00 to 14:30 at Tokyo,\n",
       " 6: Event F on 2025-11-01 from 09:15 to 11:45 at Mumbai,\n",
       " 7: Event G on 2026-09-03 from 18:30 to 19:00 at Los Angeles,\n",
       " 8: Event H on 2026-10-29 from 17:00 to 17:30 at Mumbai,\n",
       " 9: Event I on 2026-03-19 from 12:15 to 13:45 at London,\n",
       " 10: Event J on 2026-09-06 from 17:45 to 18:45 at Paris]"
      ]
     },
     "execution_count": 4,
     "metadata": {},
     "output_type": "execute_result"
    }
   ],
   "source": [
    "events = generate_data(10)\n",
    "events"
   ]
  },
  {
   "cell_type": "code",
   "execution_count": null,
   "id": "ee389d45-8bee-4f49-8d62-7eaa7868bf56",
   "metadata": {},
   "outputs": [],
   "source": []
  }
 ],
 "metadata": {
  "kernelspec": {
   "display_name": "Python 3 (ipykernel)",
   "language": "python",
   "name": "python3"
  },
  "language_info": {
   "codemirror_mode": {
    "name": "ipython",
    "version": 3
   },
   "file_extension": ".py",
   "mimetype": "text/x-python",
   "name": "python",
   "nbconvert_exporter": "python",
   "pygments_lexer": "ipython3",
   "version": "3.13.7"
  }
 },
 "nbformat": 4,
 "nbformat_minor": 5
}
